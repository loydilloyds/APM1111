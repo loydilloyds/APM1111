{
 "cells": [
  {
   "cell_type": "markdown",
   "metadata": {},
   "source": [
    "---\n",
    "## **`APM1111 - FA 4`**\n",
    "#### **Author: Sean Angelo T. Lagua**\n",
    "#### **Date: October 4, 2023**\n",
    "#### **Output: Moments**\n",
    "---\n",
    "**Submitted by: Sean Angelo T. Lagua**"
   ]
  },
  {
   "cell_type": "markdown",
   "metadata": {},
   "source": [
    "1. Finding the moments for each of the data sets"
   ]
  },
  {
   "cell_type": "code",
   "execution_count": 30,
   "metadata": {},
   "outputs": [
    {
     "name": "stdout",
     "output_type": "stream",
     "text": [
      "--- First Moment\n",
      "Normal Data 1st Moment:  65.12\n",
      "Skewed Right Data 1st Moment:  35.48\n",
      "Skewed Left Data 1st Moment:  73.8\n",
      "Uniform Data 1st Moment:  12.056\n",
      "\n",
      "--- Second Moment\n",
      "Normal Data 2nd Moment:  4248.92\n",
      "Skewed Right Data 2nd Moment:  1437.72\n",
      "Skewed Left Data 2nd Moment:  5887.0\n",
      "Uniform Data 2nd Moment:  145.426\n",
      "\n",
      "--- Third Moment\n",
      "Normal Data 3rd Moment:  277770.92\n",
      "Skewed Right Data 3rd Moment:  68292.44\n",
      "Skewed Left Data 3rd Moment:  486654.0\n",
      "Uniform Data 3rd Moment:  1755.15776\n",
      "\n",
      "--- Fourth Moment\n",
      "Normal Data 4th Moment:  18194173.64\n",
      "Skewed Right Data 4th Moment:  3797594.04\n",
      "Skewed Left Data 4th Moment:  41211534.28\n",
      "Uniform Data 4th Moment:  21194.5933\n"
     ]
    }
   ],
   "source": [
    "from scipy import stats\n",
    "import numpy as np\n",
    "\n",
    "def moment(arr, power):\n",
    "    sum = 0\n",
    "    for x in arr:\n",
    "        sum += pow(x, power)\n",
    "    rth_moment = sum / len(arr)\n",
    "    return rth_moment\n",
    "\n",
    "# Initialization of Data\n",
    "normal_arr = [67, 70, 63, 65, 68, 60, 70, 64, 69, 61, 66, 65, 71, \n",
    "              62, 66, 68, 64, 67, 62, 66, 65, 63, 66, 65, 63, 69,\n",
    "              62, 67, 59, 66, 65, 63, 65, 60, 67, 64, 68, 61, 69, \n",
    "              65, 62, 67, 70, 64, 63, 68, 64, 65, 61, 66\n",
    "             ]\n",
    "\n",
    "skewed_right_arr = [31, 43, 30, 30, 38, 26, 29, 55, 46, 26, 29, 57, 34,\n",
    "                    34, 36, 40, 28, 26, 66, 63, 30, 33, 24, 35, 34, 40,\n",
    "                    24, 29, 24, 27, 35, 33, 75, 38, 34, 85, 29, 40, 41,\n",
    "                    35, 26, 34, 19, 23, 28, 26, 31, 25, 22, 28\n",
    "                   ]\n",
    "\n",
    "skewed_left_arr = [102, 55, 70, 95, 73, 79, 60, 73, 89, 85, 72, 92, 76,\n",
    "                   93, 76, 97, 10, 70, 85, 25, 83, 38, 10, 92, 82, 87,\n",
    "                   104, 75, 80, 66, 93, 90, 84, 73, 98, 79, 35, 71, 90,\n",
    "                   71, 63, 58, 82, 72, 93, 44, 65, 77, 81, 77\n",
    "                  ]\n",
    "\n",
    "uniform_arr = [12.1, 12.1, 12.4, 12.1, 12.1, 12.2, 12.2, 12.2, 11.9, 12.2, 12.3,\n",
    "               12.3, 11.7, 12.3, 12.3, 12.4, 12.4, 12.1, 12.4, 12.4, 12.5, 11.8,\n",
    "               12.5, 12.5, 12.5, 11.6, 11.6, 12.0, 11.6, 11.6, 11.7, 12.3, 11.7,\n",
    "               11.7, 11.7, 11.8, 12.5, 11.8, 11.8, 11.8, 11.9, 11.9, 11.9, 12.2,\n",
    "               11.9, 12.0, 11.9, 12.0, 12.0, 12.0\n",
    "              ]\n",
    "\n",
    "# First Moment\n",
    "print(\"--- First Moment\")\n",
    "print(\"Normal Data 1st Moment: \", moment(normal_arr, 1))\n",
    "print(\"Skewed Right Data 1st Moment: \", moment(skewed_right_arr, 1))\n",
    "print(\"Skewed Left Data 1st Moment: \", moment(skewed_left_arr, 1))\n",
    "print(\"Uniform Data 1st Moment: \", round(moment(uniform_arr, 1), 5))\n",
    "\n",
    "print(\"\\n--- Second Moment\")\n",
    "# Second Moment\n",
    "print(\"Normal Data 2nd Moment: \", moment(normal_arr, 2))\n",
    "print(\"Skewed Right Data 2nd Moment: \", moment(skewed_right_arr, 2))\n",
    "print(\"Skewed Left Data 2nd Moment: \", moment(skewed_left_arr, 2))\n",
    "print(\"Uniform Data 2nd Moment: \", round(moment(uniform_arr, 2), 5))\n",
    "\n",
    "print(\"\\n--- Third Moment\")\n",
    "# Third Moment\n",
    "print(\"Normal Data 3rd Moment: \", moment(normal_arr, 3))\n",
    "print(\"Skewed Right Data 3rd Moment: \", moment(skewed_right_arr, 3))\n",
    "print(\"Skewed Left Data 3rd Moment: \", moment(skewed_left_arr, 3))\n",
    "print(\"Uniform Data 3rd Moment: \", round(moment(uniform_arr, 3), 5))\n",
    "\n",
    "print(\"\\n--- Fourth Moment\")\n",
    "# Fourth Moment\n",
    "print(\"Normal Data 4th Moment: \", moment(normal_arr, 4))\n",
    "print(\"Skewed Right Data 4th Moment: \", moment(skewed_right_arr, 4))\n",
    "print(\"Skewed Left Data 4th Moment: \", moment(skewed_left_arr, 4))\n",
    "print(\"Uniform Data 4th Moment: \", round(moment(uniform_arr, 4), 5))"
   ]
  },
  {
   "cell_type": "markdown",
   "metadata": {},
   "source": [
    "2. Finding the moments about the mean"
   ]
  },
  {
   "cell_type": "code",
   "execution_count": 73,
   "metadata": {},
   "outputs": [
    {
     "name": "stdout",
     "output_type": "stream",
     "text": [
      "--- First Moment\n",
      "Normal Data 1st Moment:  0.0\n",
      "Skewed Right Data 1st Moment:  0.0\n",
      "Skewed Left Data 1st Moment:  0.0\n",
      "Uniform Data 1st Moment:  0.0\n",
      "\n",
      "--- Second Moment\n",
      "Normal Data 2nd Moment:  8.3056\n",
      "Skewed Right Data 1st Moment:  178.8896\n",
      "Skewed Left Data 1st Moment:  440.56\n",
      "Uniform Data 1st Moment:  0.07886\n",
      "\n",
      "--- Third Moment\n",
      "Normal Data 2nd Moment:  -0.47174\n",
      "Skewed Right Data 1st Moment:  4588.12838\n",
      "Skewed Left Data 1st Moment:  -12833.256\n",
      "Uniform Data 1st Moment:  0.00034\n",
      "\n",
      "--- Fourth Moment\n",
      "Normal Data 2nd Moment:  160.94863\n",
      "Skewed Right Data 1st Moment:  210642.88344\n",
      "Skewed Left Data 1st Moment:  939301.1392\n",
      "Uniform Data 1st Moment:  0.01125\n"
     ]
    }
   ],
   "source": [
    "# First Moment\n",
    "print(\"--- First Moment\")\n",
    "print(\"Normal Data 1st Moment: \", stats.moment(normal_arr, moment=1))\n",
    "print(\"Skewed Right Data 1st Moment: \", stats.moment(skewed_right_arr, moment=1))\n",
    "print(\"Skewed Left Data 1st Moment: \", stats.moment(skewed_left_arr, moment=1))\n",
    "print(\"Uniform Data 1st Moment: \", stats.moment(uniform_arr, moment=1))\n",
    "\n",
    "print(\"\\n--- Second Moment\")\n",
    "# Second Moment\n",
    "print(\"Normal Data 2nd Moment: \", round(stats.moment(normal_arr, moment=2), 5))\n",
    "print(\"Skewed Right Data 1st Moment: \", round(stats.moment(skewed_right_arr, moment=2), 5))\n",
    "print(\"Skewed Left Data 1st Moment: \", round(stats.moment(skewed_left_arr, moment=2), 5))\n",
    "print(\"Uniform Data 1st Moment: \", round(stats.moment(uniform_arr, moment=2), 5))\n",
    "\n",
    "print(\"\\n--- Third Moment\")\n",
    "# Third Moment\n",
    "print(\"Normal Data 2nd Moment: \", round(stats.moment(normal_arr, moment=3), 5))\n",
    "print(\"Skewed Right Data 1st Moment: \", round(stats.moment(skewed_right_arr, moment=3), 5))\n",
    "print(\"Skewed Left Data 1st Moment: \", round(stats.moment(skewed_left_arr, moment=3), 5))\n",
    "print(\"Uniform Data 1st Moment: \", round(stats.moment(uniform_arr, moment=3), 5))\n",
    "\n",
    "print(\"\\n--- Fourth Moment\")\n",
    "# Fourth Moment\n",
    "print(\"Normal Data 2nd Moment: \", round(stats.moment(normal_arr, moment=4), 5))\n",
    "print(\"Skewed Right Data 1st Moment: \", round(stats.moment(skewed_right_arr, moment=4), 5))\n",
    "print(\"Skewed Left Data 1st Moment: \", round(stats.moment(skewed_left_arr, moment=4), 5))\n",
    "print(\"Uniform Data 1st Moment: \", round(stats.moment(uniform_arr, moment=4), 5))"
   ]
  },
  {
   "cell_type": "markdown",
   "metadata": {},
   "source": [
    "3. Finding the moments about the number 75 of the set of female height measurements"
   ]
  },
  {
   "cell_type": "code",
   "execution_count": 83,
   "metadata": {},
   "outputs": [
    {
     "name": "stdout",
     "output_type": "stream",
     "text": [
      "First moment about 75:  -9.88\n",
      "Second moment about 75:  105.92\n",
      "Third moment about 75:  -1211.08\n",
      "Fourth moment about 75:  14572.64\n"
     ]
    }
   ],
   "source": [
    "def moment_mean(arr, power):\n",
    "    sum = 0\n",
    "    for x in arr:\n",
    "        sum += pow((x - 75), power)\n",
    "    rth_moment = sum / len(arr)\n",
    "    return rth_moment\n",
    "\n",
    "m_p1 = moment_mean(normal_arr, 1)\n",
    "m_p2 = moment_mean(normal_arr, 2)\n",
    "m_p3 = moment_mean(normal_arr, 3)\n",
    "m_p4 = moment_mean(normal_arr, 4)\n",
    "\n",
    "# First Moment about 75\n",
    "print(\"First moment about 75: \", round(m_p1, 5))\n",
    "# Second Moment aorund 75\n",
    "print(\"Second moment about 75: \", round(m_p2, 5))\n",
    "# Third Moment aorund 75\n",
    "print(\"Third moment about 75: \", round(m_p3, 5))\n",
    "# Fourth Moment aorund 75\n",
    "print(\"Fourth moment about 75: \", round(m_p4, 5))\n"
   ]
  },
  {
   "cell_type": "markdown",
   "metadata": {},
   "source": [
    "4. Using the results of item 2 and 3 for the set of female height measurements, verify the relations between the moments (a) $m_{2} = m_{2}' - m_{1}'^{2}$, (b) $m_{3} = m_{3}' - 3m_{1}'m_{2}' + 2m_{1}'^{3}$, (c) $m_{4} = m_{4}' - 4m_{1}'m_{3}' + 6m_{1}'^{2}m_{2}' - 3m_{1}'^{4}$"
   ]
  },
  {
   "cell_type": "code",
   "execution_count": 124,
   "metadata": {},
   "outputs": [
    {
     "name": "stdout",
     "output_type": "stream",
     "text": [
      "Disregarding the first moment, the following are the resulting moments for the normal data set:\n",
      "m2 =  8.3056\n",
      "m3 =  -0.47174\n",
      "m4 =  160.94863\n",
      "\n",
      "Using the given formula for verification, we obtain the following:\n",
      "m2 =  105.92 - (-9.88)² =  8.3056\n",
      "m3 = -1211.08 - (3)(-9.88)(105.92) + (2)(-9.88)³ =  -0.47174\n",
      "m4 = 14572.64 - (4)(-9.88)(-1211.08) + (6)(-9.88)²(105.92) - (3)(-9.88)⁴ =  160.94863\n",
      "\n",
      "As we can see, the relation between the moments of the normal data set is equal.\n"
     ]
    }
   ],
   "source": [
    "m2 = m_p2 - pow(m_p1, 2)\n",
    "m3 = m_p3 - (3 * m_p1 * m_p2) + (2 * pow(m_p1, 3))\n",
    "m4 = m_p4 - (4 * m_p1 * m_p3) + (6 * pow(m_p1, 2) * m_p2) - (3 * pow(m_p1, 4))\n",
    "\n",
    "print(\"Disregarding the first moment, the following are the resulting moments for the normal data set:\")\n",
    "print(\"m2 = \", round(stats.moment(normal_arr, moment=2), 5))\n",
    "print(\"m3 = \", round(stats.moment(normal_arr, moment=3), 5))\n",
    "print(\"m4 = \", round(stats.moment(normal_arr, moment=4), 5))\n",
    "\n",
    "# Verification\n",
    "print(\"\\nUsing the given formula for verification, we obtain the following:\")\n",
    "# First moment about the number 75\n",
    "print(f\"m2 =  {m_p2} - ({m_p1})\\u00b2 = \", round(m2, 5))\n",
    "\n",
    "# Second moment about the number 75\n",
    "print(f\"m3 = {m_p3} - (3)({m_p1})({m_p2}) + (2)({m_p1})\\u00b3 = \", round(m3, 5))\n",
    "\n",
    "# Third moment about the number 75\n",
    "print(f\"m4 = {m_p4} - (4)({m_p1})({m_p3}) + (6)({m_p1})\\u00b2({m_p2}) - (3)({m_p1})\\u2074 = \", round(m4, 5))\n",
    "\n",
    "print(\"\\nAs we can see, the relation between the moments of the normal data set is equal.\")"
   ]
  }
 ],
 "metadata": {
  "kernelspec": {
   "display_name": "base",
   "language": "python",
   "name": "python3"
  },
  "language_info": {
   "codemirror_mode": {
    "name": "ipython",
    "version": 3
   },
   "file_extension": ".py",
   "mimetype": "text/x-python",
   "name": "python",
   "nbconvert_exporter": "python",
   "pygments_lexer": "ipython3",
   "version": "3.10.9"
  },
  "orig_nbformat": 4
 },
 "nbformat": 4,
 "nbformat_minor": 2
}
