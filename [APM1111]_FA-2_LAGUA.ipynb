{
 "cells": [
  {
   "cell_type": "markdown",
   "metadata": {},
   "source": [
    "---\n",
    "## **`APM1111 - FA 2`**\n",
    "#### **Author: Sean Angelo T. Lagua**\n",
    "#### **Date: September 17, 2023**\n",
    "#### **Output: Proof, computation, geometric mean**\n",
    "---\n",
    "**Submitted by: Sean Angelo T. Lagua**"
   ]
  },
  {
   "cell_type": "markdown",
   "metadata": {},
   "source": [
    "**Exercise 3.49**\n",
    "\n",
    "Prove that \n",
    "$ \\sum_{j=1}^{N}(X_{j} - 1)^{2} = \\sum_{j=1}^{N}X_{j}^2 - 2\\sum_{j=1}^{N}X_{j} + N$."
   ]
  },
  {
   "cell_type": "markdown",
   "metadata": {},
   "source": [
    "Proof.\n",
    "\n",
    "We start by expanding the expression inside the summation to get that\n",
    "\n",
    "$$\\sum_{j=1}^{N}(X_{j} - 1)^2 = \\sum_{j=1}^{N}X_{j}^2-2X_{j}+1$$\n",
    "\n",
    "This new expression lets us see that\n",
    "$$= (X_{1}^2 - 2X_{1} + 1) + (X_{2}^2 - 2X_{2} + 1) + (X_{3}^2 - 2X_{3} + 1) + \\cdots + (X_{j-1}^2 - 2X_{j-1} + 1) + (X_{j}^2 - 2X_{j} + 1)$$\n",
    "\n",
    "Combining all the like terms we get\n",
    "$$= (X_{1}^2 + X_{2}^2 + X_{3}^2 + \\cdots + X_{j-1}^2 + X_{j}^2) + ((-2X_{1} + 1) + (-2X_{2} + 1) + (-2X_{3} + 1) + \\cdots + (-2X_{j-1} + 1) + (-2X_{j} + 1))$$\n",
    "\n",
    "Rewriting the first term we now achieve the first part of the proof. We can also notice that inside the second term there is a common coefficient of $-2$. Also, notice that the summation of all the $1s$ add up all the way to the $N^{th}$ term of the summation. Thus, we get\n",
    "$$= \\sum_{j=1}^{N}X_{j}^2 + -2(X_{1} + X_{2} + X_{3} + \\cdots + X_{j-1} + X_{j}) + N$$\n",
    "\n",
    "Finally, from the property of summation, we move the constant to the front of the summation and we get\n",
    "$$= \\sum_{j=1}^{N}X_{j}^2 + -2\\sum_{j=1}^{N}X_{j} + N$$\n",
    "\n",
    "Therefore, we have shown that $$ \\sum_{j=1}^{N}(X_{j} - 1)^{2} = \\sum_{j=1}^{N}X_{j}^2 - 2\\sum_{j=1}^{N}X_{j} + N \\qquad\\qquad \\blacksquare$$"
   ]
  },
  {
   "cell_type": "markdown",
   "metadata": {},
   "source": [
    "**Exercise 3.51**\n",
    "\n",
    "Two variables, $U$ and $V$ , assume the values $U_{1} = 3,$ $U_{2} = -2,$ $U_{3} = 5,$ and $V_{1} = -4,$ $V_{2} = -1,$ $V_{3} = 6$ , respectively . Calculate $(a) \\sum UV,$ $(b) \\sum (U+3)(V-4),$ $(c) \\sum V^2,$ $(d) (\\sum U)(\\sum V)^2,$ $(e) \\sum UV^2,$ $(f) (U^2 - 2V^2 + 2),$ and $(g) \\sum (U/V)$ ."
   ]
  },
  {
   "cell_type": "markdown",
   "metadata": {},
   "source": [
    "Solution\n",
    "\n",
    "$(a) \\sum UV$\n",
    "$$= (3(-4)) + (-2(-1)) + (5(6)) $$\n",
    "$$= -12 + 2 + 30$$\n",
    "$$= 20$$"
   ]
  },
  {
   "cell_type": "markdown",
   "metadata": {},
   "source": [
    "$(b) \\sum (U + 3)(V - 4)$\n",
    "\n",
    "$$= (3 + 3)(-4-4) + (-2+3)(-1-4) + (5 + 3)(6 - 4)$$\n",
    "$$= -48 - 5 + 16$$\n",
    "$$= -37 $$"
   ]
  },
  {
   "cell_type": "markdown",
   "metadata": {},
   "source": [
    "$(c) \\sum V^2$\n",
    "\n",
    "$$= (-4)^2 + (-1)^2 + (6)^2$$\n",
    "$$= 16 + 1 + 36$$\n",
    "$$= 53$$"
   ]
  },
  {
   "cell_type": "markdown",
   "metadata": {},
   "source": [
    "$(d) (\\sum U)(\\sum V) ^2$\n",
    "\n",
    "$$= (3 - 2 + 5)(-4 -1 + 6)^2$$\n",
    "$$= (6)(1)$$\n",
    "$$= 6$$"
   ]
  },
  {
   "cell_type": "markdown",
   "metadata": {},
   "source": [
    "$(e) \\sum UV^2$\n",
    "\n",
    "$$= 3(-4)^2 + -2(-1)^2 + 5(6)^2$$\n",
    "$$= 48 - 2 + 180$$\n",
    "$$= 226$$"
   ]
  },
  {
   "cell_type": "markdown",
   "metadata": {},
   "source": [
    "$(f) \\sum (U^2 - 2V^2 + 2)$\n",
    "\n",
    "$$= (3^2 - 2(-4)^2 + 2) + ((-2)^2 - 2(-1)^2 + 2) + (5^2 - 2(6)^2 + 2)$$\n",
    "$$= -21 + 4 -45$$\n",
    "$$= -62$$"
   ]
  },
  {
   "cell_type": "markdown",
   "metadata": {},
   "source": [
    "$(g) \\sum (U/V)$\n",
    "\n",
    "$$= -\\frac{3}{4} + \\frac{2}{1} + \\frac{5}{6}$$\n",
    "$$= \\frac{25}{12}$$"
   ]
  },
  {
   "cell_type": "markdown",
   "metadata": {},
   "source": [
    "**Exercise 3.90**\n",
    "\n",
    "Find the geometric mean of the sets $(a)$ 3 ,5 ,8 ,3 ,7 ,2 and $(b)$ 28.5, 73.6, 47."
   ]
  },
  {
   "cell_type": "markdown",
   "metadata": {},
   "source": [
    "Solution\n",
    "\n",
    "$(a) 3 ,5 ,8 ,3 ,7 ,2$\n",
    "\n",
    "$$ G = \\sqrt[6]{(3)(5)(8)(3)(7)(2)}$$\n",
    "$$= \\sqrt[6]{5040}$$\n",
    "$$= 4.14068$$\n",
    "\n",
    "$(b)$ 28.5, 73.6, 47\n",
    "\n",
    "$$ G = \\sqrt[3]{(28.5)(73.6)(47)} $$\n",
    "$$ = \\sqrt[3]{98587.2}$$\n",
    "$$ = 46.19626$$"
   ]
  },
  {
   "cell_type": "markdown",
   "metadata": {},
   "source": [
    "**_Using python_**"
   ]
  },
  {
   "cell_type": "code",
   "execution_count": 16,
   "metadata": {},
   "outputs": [
    {
     "name": "stdout",
     "output_type": "stream",
     "text": [
      "a) G =  4.14068\n",
      "b) G =  46.19626\n"
     ]
    }
   ],
   "source": [
    "import statistics\n",
    "\n",
    "a = [3, 5, 8, 3, 7, 2]\n",
    "b = [28.5, 73.6, 47]\n",
    "\n",
    "a_geomean = statistics.geometric_mean(a)\n",
    "print(\"a) G = \", round(a_geomean, 5))\n",
    "\n",
    "b_geomean = statistics.geometric_mean(b)\n",
    "print(\"b) G = \", round(b_geomean, 5))"
   ]
  }
 ],
 "metadata": {
  "kernelspec": {
   "display_name": "base",
   "language": "python",
   "name": "python3"
  },
  "language_info": {
   "codemirror_mode": {
    "name": "ipython",
    "version": 3
   },
   "file_extension": ".py",
   "mimetype": "text/x-python",
   "name": "python",
   "nbconvert_exporter": "python",
   "pygments_lexer": "ipython3",
   "version": "3.10.9"
  },
  "orig_nbformat": 4
 },
 "nbformat": 4,
 "nbformat_minor": 2
}
