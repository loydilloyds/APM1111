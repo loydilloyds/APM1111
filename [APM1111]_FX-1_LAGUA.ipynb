{
 "cells": [
  {
   "cell_type": "markdown",
   "metadata": {},
   "source": [
    "---\n",
    "## **`APM1111 - FX P1`**\n",
    "#### **Author: Sean Angelo T. Lagua**\n",
    "#### **Date: December 15, 2023**\n",
    "---"
   ]
  },
  {
   "cell_type": "markdown",
   "metadata": {},
   "source": [
    "### **Data Preparation**\n",
    "\n",
    "In loading the data, we make use of Python's ```pandas``` library as well as ```scipy``` to extract the one-way anova module."
   ]
  },
  {
   "cell_type": "code",
   "execution_count": 90,
   "metadata": {},
   "outputs": [],
   "source": [
    "import ptitprince as pt\n",
    "import pandas as pd\n",
    "import matplotlib.pyplot as plt\n",
    "from scipy.stats import f_oneway, sem, skew, kurtosis, shapiro, levene\n",
    "import statsmodels.api as sm\n",
    "from statsmodels.stats.multicomp import pairwise_tukeyhsd"
   ]
  },
  {
   "cell_type": "markdown",
   "metadata": {},
   "source": [
    "The data was then inserted into a dictionary."
   ]
  },
  {
   "cell_type": "code",
   "execution_count": 8,
   "metadata": {},
   "outputs": [
    {
     "name": "stdout",
     "output_type": "stream",
     "text": [
      "F-statistic: 62.08885876263247\n",
      "P-value: 6.5317397718921815e-12\n"
     ]
    }
   ],
   "source": [
    "data = {\n",
    "    'Stimuli': ['Shape', 'Shape', 'Shape', 'Shape', 'Shape', 'Shape', 'Shape', 'Shape', 'Pattern', 'Pattern', 'Pattern', 'Pattern', 'Pattern', 'Pattern', 'Pattern', 'Pattern', 'Picture', 'Picture', 'Picture', 'Picture', 'Picture', 'Picture', 'Picture', 'Picture', 'Shape', 'Shape', 'Shape', 'Shape', 'Pattern', 'Pattern', 'Pattern', 'Pattern', 'Picture', 'Picture', 'Picture', 'Picture'],\n",
    "    'Time': [2, 0.75, 1.25, 1, 1.5, 1.25, 1.75, 0.5, 2.5, 3.25, 1.85, 3.05, 2.5, 3, 4.1, 3.75, 4.25, 4.1, 4.25, 4.4, 3.75, 3.05, 3.2, 5, 2, 0.75, 1.25, 1, 2.5, 3.25, 1.85, 3.05, 4.25, 4.4, 3.75, 3.05]\n",
    "}\n",
    "\n",
    "df = pd.DataFrame(data)\n",
    "\n",
    "group_shape = df[df['Stimuli'] == 'Shape']['Time']\n",
    "group_pattern = df[df['Stimuli'] == 'Pattern']['Time']\n",
    "group_picture = df[df['Stimuli'] == 'Picture']['Time']\n",
    "\n",
    "f_stat, p_value = f_oneway(group_shape, group_pattern, group_picture)\n",
    "\n",
    "print(\"F-statistic:\", f_stat)\n",
    "print(\"P-value:\", p_value)"
   ]
  },
  {
   "cell_type": "markdown",
   "metadata": {},
   "source": [
    "### **Assumption Check**\n",
    "\n",
    "##### **Assumption #1:** You have one dependent variable that is measured at the continuous level.\n",
    "> ***Remark.*** We have one dependent variable, *time*, which measured the number of seconds the rats spent exploring the experimental chamber with the images, and three treatment conditions (Shape, Pattern, Picture).The dependent variable *time* is measured at a continuous level.\n",
    "\n",
    "##### **Assumption #2:** You have one independent variable that consists of two categorical, independent groups.\n",
    "> ***Remark.*** We have an independent variable which consists of the different treatment conditions that the rats were exposed to. These conditions are categorized into independent groups namely, Shape, Pattern, and Picture.\n",
    "\n",
    "##### **Assumption #3:** You should have independence of observations.\n",
    "> ***Remark.*** There is no relationship between the observations in each group of the independent variable or between the groups themselves—the values of the weight in each observation are independent of each other.\n",
    "\n",
    "##### **Assumption #4:** There should be no significant outliers in the three or more groups of your independent variable in terms of the dependent variable."
   ]
  },
  {
   "cell_type": "markdown",
   "metadata": {},
   "source": [
    "***Box Plot***"
   ]
  },
  {
   "cell_type": "code",
   "execution_count": 12,
   "metadata": {},
   "outputs": [
    {
     "data": {
      "image/png": "[encoded data removed]",
      "text/plain": [
       "<Figure size 800x600 with 1 Axes>"
      ]
     },
     "metadata": {},
     "output_type": "display_data"
    }
   ],
   "source": [
    "# Grouping data by 'Stimuli'\n",
    "grouped = df.groupby('Stimuli')['Time']\n",
    "\n",
    "# Creating a boxplot\n",
    "plt.figure(figsize=(8, 6))\n",
    "plt.boxplot([group[1] for group in grouped], labels=[group[0] for group in grouped], patch_artist=True)\n",
    "plt.xlabel('Stimuli')\n",
    "plt.ylabel('Time')\n",
    "plt.title('Boxplot of Time across Stimuli')\n",
    "plt.grid(True)\n",
    "plt.show()"
   ]
  },
  {
   "cell_type": "markdown",
   "metadata": {},
   "source": [
    "> ***Remark.*** As we can see, there are no significant outliers that we can visually detect with the boxplot. In fact, there are no outliers at all."
   ]
  },
  {
   "cell_type": "markdown",
   "metadata": {},
   "source": [
    "##### **Assumption #5:** Your dependent variable should be approximately normally distributed for each group of the independent variable."
   ]
  },
  {
   "cell_type": "code",
   "execution_count": 28,
   "metadata": {},
   "outputs": [
    {
     "data": {
      "text/html": [
       "<div>\n",
       "<style scoped>\n",
       "    .dataframe tbody tr th:only-of-type {\n",
       "        vertical-align: middle;\n",
       "    }\n",
       "\n",
       "    .dataframe tbody tr th {\n",
       "        vertical-align: top;\n",
       "    }\n",
       "\n",
       "    .dataframe thead th {\n",
       "        text-align: right;\n",
       "    }\n",
       "</style>\n",
       "<table border=\"1\" class=\"dataframe\">\n",
       "  <thead>\n",
       "    <tr style=\"text-align: right;\">\n",
       "      <th></th>\n",
       "      <th>Mean</th>\n",
       "      <th>Median</th>\n",
       "      <th>Standard Error of Mean</th>\n",
       "      <th>Standard Deviation</th>\n",
       "      <th>Skewness</th>\n",
       "      <th>Kurtosis</th>\n",
       "      <th>Coefficient of Variation</th>\n",
       "      <th>Shapiro-Wilk Statistic</th>\n",
       "      <th>Shapiro-Wilk p-value</th>\n",
       "    </tr>\n",
       "  </thead>\n",
       "  <tbody>\n",
       "    <tr>\n",
       "      <th>Pattern</th>\n",
       "      <td>2.887500</td>\n",
       "      <td>3.025</td>\n",
       "      <td>0.197439</td>\n",
       "      <td>0.683947</td>\n",
       "      <td>0.036017</td>\n",
       "      <td>-0.672380</td>\n",
       "      <td>0.236865</td>\n",
       "      <td>0.950051</td>\n",
       "      <td>0.637731</td>\n",
       "    </tr>\n",
       "    <tr>\n",
       "      <th>Picture</th>\n",
       "      <td>3.954167</td>\n",
       "      <td>4.175</td>\n",
       "      <td>0.175428</td>\n",
       "      <td>0.607700</td>\n",
       "      <td>-0.221025</td>\n",
       "      <td>-0.845805</td>\n",
       "      <td>0.153686</td>\n",
       "      <td>0.915158</td>\n",
       "      <td>0.248295</td>\n",
       "    </tr>\n",
       "    <tr>\n",
       "      <th>Shape</th>\n",
       "      <td>1.250000</td>\n",
       "      <td>1.250</td>\n",
       "      <td>0.141019</td>\n",
       "      <td>0.488504</td>\n",
       "      <td>0.229081</td>\n",
       "      <td>-1.000000</td>\n",
       "      <td>0.390803</td>\n",
       "      <td>0.943738</td>\n",
       "      <td>0.547955</td>\n",
       "    </tr>\n",
       "  </tbody>\n",
       "</table>\n",
       "</div>"
      ],
      "text/plain": [
       "             Mean  Median  Standard Error of Mean  Standard Deviation   \n",
       "Pattern  2.887500   3.025                0.197439            0.683947  \\\n",
       "Picture  3.954167   4.175                0.175428            0.607700   \n",
       "Shape    1.250000   1.250                0.141019            0.488504   \n",
       "\n",
       "         Skewness  Kurtosis  Coefficient of Variation  Shapiro-Wilk Statistic   \n",
       "Pattern  0.036017 -0.672380                  0.236865                0.950051  \\\n",
       "Picture -0.221025 -0.845805                  0.153686                0.915158   \n",
       "Shape    0.229081 -1.000000                  0.390803                0.943738   \n",
       "\n",
       "         Shapiro-Wilk p-value  \n",
       "Pattern              0.637731  \n",
       "Picture              0.248295  \n",
       "Shape                0.547955  "
      ]
     },
     "execution_count": 28,
     "metadata": {},
     "output_type": "execute_result"
    }
   ],
   "source": [
    "def calculate_statistics(data):\n",
    "    mean = data.mean()\n",
    "    median = data.median()\n",
    "    std_err = sem(data)\n",
    "    std_dev = data.std()\n",
    "    skewness = skew(data)\n",
    "    kurt = kurtosis(data)\n",
    "    shapiro_stat, shapiro_p_value = shapiro(data)\n",
    "    coeff_variation = (std_dev / mean)  # Coefficient of Variation\n",
    "\n",
    "    return {\n",
    "        'Mean': mean,\n",
    "        'Median': median,\n",
    "        'Standard Error of Mean': std_err,\n",
    "        'Standard Deviation': std_dev,\n",
    "        'Skewness': skewness,\n",
    "        'Kurtosis': kurt,\n",
    "        'Coefficient of Variation': coeff_variation,\n",
    "        'Shapiro-Wilk Statistic': shapiro_stat,\n",
    "        'Shapiro-Wilk p-value': shapiro_p_value\n",
    "    }\n",
    "\n",
    "# Group data by 'Stimuli'\n",
    "grouped_data = df.groupby('Stimuli')['Time']\n",
    "\n",
    "# Calculate statistics for each group\n",
    "statistics_list = [calculate_statistics(group) for name, group in grouped_data]\n",
    "\n",
    "# Create a DataFrame from the list of dictionaries\n",
    "statistics_df = pd.DataFrame(statistics_list, index=grouped_data.groups.keys())\n",
    "\n",
    "# Display the table\n",
    "statistics_df\n"
   ]
  },
  {
   "cell_type": "markdown",
   "metadata": {},
   "source": [
    "> ***Remark.*** The time for each group is normally distributed as assessed by the Shapiro-Wilk's test, *p* > 0.05."
   ]
  },
  {
   "cell_type": "markdown",
   "metadata": {},
   "source": [
    "##### **Assumption #6:** You have homogeneity of variances (i.e., the variance of the dependent variable i equal in each group of your independent variable).\n"
   ]
  },
  {
   "cell_type": "code",
   "execution_count": 42,
   "metadata": {},
   "outputs": [
    {
     "data": {
      "text/html": [
       "<div>\n",
       "<style scoped>\n",
       "    .dataframe tbody tr th:only-of-type {\n",
       "        vertical-align: middle;\n",
       "    }\n",
       "\n",
       "    .dataframe tbody tr th {\n",
       "        vertical-align: top;\n",
       "    }\n",
       "\n",
       "    .dataframe thead th {\n",
       "        text-align: right;\n",
       "    }\n",
       "</style>\n",
       "<table border=\"1\" class=\"dataframe\">\n",
       "  <thead>\n",
       "    <tr style=\"text-align: right;\">\n",
       "      <th></th>\n",
       "      <th>Levene's Test Statistic</th>\n",
       "      <th>p-value</th>\n",
       "    </tr>\n",
       "  </thead>\n",
       "  <tbody>\n",
       "    <tr>\n",
       "      <th>Overall</th>\n",
       "      <td>0.431328</td>\n",
       "      <td>0.653256</td>\n",
       "    </tr>\n",
       "  </tbody>\n",
       "</table>\n",
       "</div>"
      ],
      "text/plain": [
       "         Levene's Test Statistic   p-value\n",
       "Overall                 0.431328  0.653256"
      ]
     },
     "execution_count": 42,
     "metadata": {},
     "output_type": "execute_result"
    }
   ],
   "source": [
    "# Group data by 'Stimuli'\n",
    "grouped_data = df.groupby('Stimuli')['Time']\n",
    "\n",
    "# Extract data for each group\n",
    "group_data = [group for name, group in grouped_data]\n",
    "\n",
    "# Perform Levene's test for homogeneity of variance\n",
    "statistic, p_value = levene(*group_data)\n",
    "\n",
    "# Create a DataFrame to display the test result\n",
    "homogeneity_result = pd.DataFrame({\n",
    "    \"Levene's Test Statistic\": [statistic],\n",
    "    \"p-value\": [p_value]\n",
    "}, index=['Overall'])\n",
    "\n",
    "# Display the table\n",
    "homogeneity_result\n"
   ]
  },
  {
   "cell_type": "markdown",
   "metadata": {},
   "source": [
    "> ***Remark.*** There was homogeneity of variances of the dependent variables for all of the groups, as assessed by Levene’s test of homogeneity of variances, *p* = 0.653256."
   ]
  },
  {
   "cell_type": "markdown",
   "metadata": {},
   "source": [
    "### **Computation**"
   ]
  },
  {
   "cell_type": "code",
   "execution_count": 98,
   "metadata": {},
   "outputs": [
    {
     "name": "stderr",
     "output_type": "stream",
     "text": [
      "C:\\Users\\pc\\AppData\\Local\\Temp\\ipykernel_17256\\1894013298.py:35: SettingWithCopyWarning: \n",
      "A value is trying to be set on a copy of a slice from a DataFrame\n",
      "\n",
      "See the caveats in the documentation: https://pandas.pydata.org/pandas-docs/stable/user_guide/indexing.html#returning-a-view-versus-a-copy\n",
      "  anova_table['Mean Squares (MS)'][2] = ss_total / (total_samples - 1)\n"
     ]
    },
    {
     "data": {
      "text/html": [
       "<div>\n",
       "<style scoped>\n",
       "    .dataframe tbody tr th:only-of-type {\n",
       "        vertical-align: middle;\n",
       "    }\n",
       "\n",
       "    .dataframe tbody tr th {\n",
       "        vertical-align: top;\n",
       "    }\n",
       "\n",
       "    .dataframe thead th {\n",
       "        text-align: right;\n",
       "    }\n",
       "</style>\n",
       "<table border=\"1\" class=\"dataframe\">\n",
       "  <thead>\n",
       "    <tr style=\"text-align: right;\">\n",
       "      <th></th>\n",
       "      <th>Source of Variation</th>\n",
       "      <th>Sum of Squares (SS)</th>\n",
       "      <th>Degrees of Freedom (df)</th>\n",
       "      <th>Mean Squares (MS)</th>\n",
       "      <th>F-statistic</th>\n",
       "      <th>p-value</th>\n",
       "    </tr>\n",
       "  </thead>\n",
       "  <tbody>\n",
       "    <tr>\n",
       "      <th>0</th>\n",
       "      <td>Stimuli</td>\n",
       "      <td>44.526806</td>\n",
       "      <td>2</td>\n",
       "      <td>22.263403</td>\n",
       "      <td>62.088859</td>\n",
       "      <td>0.0</td>\n",
       "    </tr>\n",
       "    <tr>\n",
       "      <th>1</th>\n",
       "      <td>Residual</td>\n",
       "      <td></td>\n",
       "      <td>33</td>\n",
       "      <td></td>\n",
       "      <td></td>\n",
       "      <td></td>\n",
       "    </tr>\n",
       "  </tbody>\n",
       "</table>\n",
       "</div>"
      ],
      "text/plain": [
       "  Source of Variation Sum of Squares (SS)  Degrees of Freedom (df)   \n",
       "0             Stimuli           44.526806                        2  \\\n",
       "1            Residual                                           33   \n",
       "\n",
       "  Mean Squares (MS) F-statistic p-value  \n",
       "0         22.263403   62.088859     0.0  \n",
       "1                                        "
      ]
     },
     "execution_count": 98,
     "metadata": {},
     "output_type": "execute_result"
    }
   ],
   "source": [
    "\n",
    "# Group data by 'Stimuli'\n",
    "grouped_data = df.groupby('Stimuli')['Time']\n",
    "\n",
    "# Extract data for each group\n",
    "group_data = [group for name, group in grouped_data]\n",
    "\n",
    "# Perform one-way ANOVA\n",
    "f_statistic, p_value = f_oneway(*group_data)\n",
    "\n",
    "# Calculate degrees of freedom\n",
    "num_groups = len(group_data)\n",
    "total_samples = len(df)\n",
    "degrees_of_freedom_between = num_groups - 1\n",
    "degrees_of_freedom_within = total_samples - num_groups\n",
    "\n",
    "# Calculate sum of squares\n",
    "grand_mean = df['Time'].mean()\n",
    "ss_between = sum(len(data) * (data.mean() - grand_mean)**2 for data in group_data)\n",
    "ss_within = sum((data - data.mean())**2 for data in group_data)\n",
    "ss_total = ss_between + ss_within\n",
    "\n",
    "# Calculate mean squares\n",
    "ms_between = ss_between / degrees_of_freedom_between\n",
    "ms_within = ss_within / degrees_of_freedom_within\n",
    "\n",
    "# Create a DataFrame for the results\n",
    "anova_table = pd.DataFrame({\n",
    "    'Source of Variation': ['Stimuli', 'Residual'],\n",
    "    'Sum of Squares (SS)': [ss_between, ''],\n",
    "    'Degrees of Freedom (df)': [degrees_of_freedom_between, degrees_of_freedom_within],\n",
    "    'Mean Squares (MS)': [ms_between, '']\n",
    "})\n",
    "\n",
    "# Calculate Total MS\n",
    "anova_table['Mean Squares (MS)'][2] = ss_total / (total_samples - 1)\n",
    "\n",
    "# Calculate F-statistic and p-value\n",
    "anova_table['F-statistic'] = [f_statistic, '']\n",
    "anova_table['p-value'] = [p_value, '']\n",
    "\n",
    "# Display the ANOVA table\n",
    "anova_table"
   ]
  },
  {
   "cell_type": "code",
   "execution_count": 89,
   "metadata": {},
   "outputs": [
    {
     "data": {
      "text/html": [
       "<div>\n",
       "<style scoped>\n",
       "    .dataframe tbody tr th:only-of-type {\n",
       "        vertical-align: middle;\n",
       "    }\n",
       "\n",
       "    .dataframe tbody tr th {\n",
       "        vertical-align: top;\n",
       "    }\n",
       "\n",
       "    .dataframe thead th {\n",
       "        text-align: right;\n",
       "    }\n",
       "</style>\n",
       "<table border=\"1\" class=\"dataframe\">\n",
       "  <thead>\n",
       "    <tr style=\"text-align: right;\">\n",
       "      <th></th>\n",
       "      <th>count</th>\n",
       "      <th>mean</th>\n",
       "      <th>std</th>\n",
       "      <th>min</th>\n",
       "      <th>25%</th>\n",
       "      <th>50%</th>\n",
       "      <th>75%</th>\n",
       "      <th>max</th>\n",
       "      <th>Coefficient of Variation</th>\n",
       "    </tr>\n",
       "    <tr>\n",
       "      <th>Stimuli</th>\n",
       "      <th></th>\n",
       "      <th></th>\n",
       "      <th></th>\n",
       "      <th></th>\n",
       "      <th></th>\n",
       "      <th></th>\n",
       "      <th></th>\n",
       "      <th></th>\n",
       "      <th></th>\n",
       "    </tr>\n",
       "  </thead>\n",
       "  <tbody>\n",
       "    <tr>\n",
       "      <th>Pattern</th>\n",
       "      <td>12.0</td>\n",
       "      <td>2.887500</td>\n",
       "      <td>0.683947</td>\n",
       "      <td>1.85</td>\n",
       "      <td>2.5000</td>\n",
       "      <td>3.025</td>\n",
       "      <td>3.2500</td>\n",
       "      <td>4.1</td>\n",
       "      <td>23.686491</td>\n",
       "    </tr>\n",
       "    <tr>\n",
       "      <th>Picture</th>\n",
       "      <td>12.0</td>\n",
       "      <td>3.954167</td>\n",
       "      <td>0.607700</td>\n",
       "      <td>3.05</td>\n",
       "      <td>3.6125</td>\n",
       "      <td>4.175</td>\n",
       "      <td>4.2875</td>\n",
       "      <td>5.0</td>\n",
       "      <td>15.368598</td>\n",
       "    </tr>\n",
       "    <tr>\n",
       "      <th>Shape</th>\n",
       "      <td>12.0</td>\n",
       "      <td>1.250000</td>\n",
       "      <td>0.488504</td>\n",
       "      <td>0.50</td>\n",
       "      <td>0.9375</td>\n",
       "      <td>1.250</td>\n",
       "      <td>1.5625</td>\n",
       "      <td>2.0</td>\n",
       "      <td>39.080337</td>\n",
       "    </tr>\n",
       "  </tbody>\n",
       "</table>\n",
       "</div>"
      ],
      "text/plain": [
       "         count      mean       std   min     25%    50%     75%  max   \n",
       "Stimuli                                                                \n",
       "Pattern   12.0  2.887500  0.683947  1.85  2.5000  3.025  3.2500  4.1  \\\n",
       "Picture   12.0  3.954167  0.607700  3.05  3.6125  4.175  4.2875  5.0   \n",
       "Shape     12.0  1.250000  0.488504  0.50  0.9375  1.250  1.5625  2.0   \n",
       "\n",
       "         Coefficient of Variation  \n",
       "Stimuli                            \n",
       "Pattern                 23.686491  \n",
       "Picture                 15.368598  \n",
       "Shape                   39.080337  "
      ]
     },
     "execution_count": 89,
     "metadata": {},
     "output_type": "execute_result"
    }
   ],
   "source": [
    "# Calculate descriptive statistics for the 'Time' column grouped by 'Stimuli'\n",
    "grouped_stats = df.groupby(\"Stimuli\")['Time'].describe()\n",
    "\n",
    "# Calculate coefficient of variation for each group\n",
    "group_cv = grouped_stats['std'] / grouped_stats['mean'] * 100\n",
    "\n",
    "# Create a DataFrame for descriptive statistics and CV by group\n",
    "stats_table = pd.concat([grouped_stats, group_cv.rename('Coefficient of Variation')], axis=1)\n",
    "\n",
    "# Display the table\n",
    "stats_table"
   ]
  },
  {
   "cell_type": "code",
   "execution_count": 92,
   "metadata": {},
   "outputs": [
    {
     "data": {
      "text/html": [
       "<div>\n",
       "<style scoped>\n",
       "    .dataframe tbody tr th:only-of-type {\n",
       "        vertical-align: middle;\n",
       "    }\n",
       "\n",
       "    .dataframe tbody tr th {\n",
       "        vertical-align: top;\n",
       "    }\n",
       "\n",
       "    .dataframe thead th {\n",
       "        text-align: right;\n",
       "    }\n",
       "</style>\n",
       "<table border=\"1\" class=\"dataframe\">\n",
       "  <thead>\n",
       "    <tr style=\"text-align: right;\">\n",
       "      <th></th>\n",
       "      <th>group1</th>\n",
       "      <th>group2</th>\n",
       "      <th>meandiff</th>\n",
       "      <th>p-adj</th>\n",
       "      <th>lower</th>\n",
       "      <th>upper</th>\n",
       "      <th>reject</th>\n",
       "    </tr>\n",
       "  </thead>\n",
       "  <tbody>\n",
       "    <tr>\n",
       "      <th>0</th>\n",
       "      <td>Pattern</td>\n",
       "      <td>Picture</td>\n",
       "      <td>1.0667</td>\n",
       "      <td>0.0003</td>\n",
       "      <td>0.4668</td>\n",
       "      <td>1.6665</td>\n",
       "      <td>True</td>\n",
       "    </tr>\n",
       "    <tr>\n",
       "      <th>1</th>\n",
       "      <td>Pattern</td>\n",
       "      <td>Shape</td>\n",
       "      <td>-1.6375</td>\n",
       "      <td>0.0000</td>\n",
       "      <td>-2.2374</td>\n",
       "      <td>-1.0376</td>\n",
       "      <td>True</td>\n",
       "    </tr>\n",
       "    <tr>\n",
       "      <th>2</th>\n",
       "      <td>Picture</td>\n",
       "      <td>Shape</td>\n",
       "      <td>-2.7042</td>\n",
       "      <td>0.0000</td>\n",
       "      <td>-3.3040</td>\n",
       "      <td>-2.1043</td>\n",
       "      <td>True</td>\n",
       "    </tr>\n",
       "  </tbody>\n",
       "</table>\n",
       "</div>"
      ],
      "text/plain": [
       "    group1   group2  meandiff   p-adj   lower   upper  reject\n",
       "0  Pattern  Picture    1.0667  0.0003  0.4668  1.6665    True\n",
       "1  Pattern    Shape   -1.6375  0.0000 -2.2374 -1.0376    True\n",
       "2  Picture    Shape   -2.7042  0.0000 -3.3040 -2.1043    True"
      ]
     },
     "execution_count": 92,
     "metadata": {},
     "output_type": "execute_result"
    }
   ],
   "source": [
    "# Perform Tukey's HSD test\n",
    "tukey_results = pairwise_tukeyhsd(df['Time'], df['Stimuli'])\n",
    "\n",
    "# Convert the results to a DataFrame\n",
    "tukey_table = pd.DataFrame(data=tukey_results._results_table.data[1:], columns=tukey_results._results_table.data[0])\n",
    "\n",
    "# Display the table\n",
    "tukey_table\n"
   ]
  },
  {
   "cell_type": "markdown",
   "metadata": {},
   "source": [
    "### **Report**\n",
    "\n",
    "In determining impact of 2-dimensional visual stimuli on the spontaneous exploration behavior in rats, a one-way ANOVA was conducted to explore their behavior under three treatments. The rats were exposed to three different stimuli: Shape (n = 12), Pattern (n = 12), Picture (n = 12). There were no visible outliers as visually inspected in the boxplots. Normality was also not violated as assessed and verified by the Shapiro-Wilk test (p > 0.05) strongly suggesting normal distribution; and homogeneity of variances was also maintained as assessed by Levene’s test of homogeneity of variances (p = 0.653256). Data is presented as mean 土 standard deviation. Between the three groups, we can observe that the rats' stimuli is statistically significantly different between the treatment groups with F(2,33) = 62.088859, p < .001, and η²p = 0.790. The rats' behavior increases from Pattern (Mean = 2.888, SD = 0.684) to Picture (Mean = 3.954, SD = 0.608), but dips in value from Picture (Mean = 3.954, SD = 0.608) to Shape (Mean = 1.250, SD = 0.489). The Tukey post hoc analysis also revealed that the mean decrease from Picture to Shape (2.7042, 95% CI[-3.3040, -2.1043], p < 0.001) is statistically significant."
   ]
  }
 ],
 "metadata": {
  "kernelspec": {
   "display_name": "Python 3",
   "language": "python",
   "name": "python3"
  },
  "language_info": {
   "codemirror_mode": {
    "name": "ipython",
    "version": 3
   },
   "file_extension": ".py",
   "mimetype": "text/x-python",
   "name": "python",
   "nbconvert_exporter": "python",
   "pygments_lexer": "ipython3",
   "version": "3.11.3"
  }
 },
 "nbformat": 4,
 "nbformat_minor": 2
}
