{
 "cells": [
  {
   "cell_type": "markdown",
   "metadata": {},
   "source": [
    "---\n",
    "## **`APM1111 - FA 5`**\n",
    "#### **Author: Sean Angelo T. Lagua**\n",
    "#### **Date: October 9, 2023**\n",
    "#### **Chapter: Sampling Theory**\n",
    "---"
   ]
  },
  {
   "cell_type": "markdown",
   "metadata": {},
   "source": [
    "#### __Problem 8.18__\n",
    "List all samples of size $n = 2$ that are possible (with replacement) from the population in Problem 8.17. Plot the sampling distribution of the mean to show that $\\mu_{\\bar{x}} = \\mu$, and show that $\\sigma_{\\bar{x}}^{2} = \\sigma^{2} / 2$."
   ]
  },
  {
   "cell_type": "markdown",
   "metadata": {},
   "source": [
    "__Solution__"
   ]
  },
  {
   "cell_type": "markdown",
   "metadata": {},
   "source": [
    "From the previous problem 8.17, we were given the values $x = 9, 12,$ and $15$ representing the credit hours a student is taking. From this, we can see that $N=3$, thus we list all the possible sample size of $n = 2$ with replacement by using the formula $N^{n}$ to obtain a list of $9$ possible sample size from the population."
   ]
  },
  {
   "cell_type": "code",
   "execution_count": 84,
   "metadata": {},
   "outputs": [
    {
     "name": "stdout",
     "output_type": "stream",
     "text": [
      "Possible number of combination: 9\n",
      "List of all possible sample size: \n",
      "[(9, 9), (9, 12), (9, 15), (12, 9), (12, 12), (12, 15), (15, 9), (15, 12), (15, 15)]\n"
     ]
    }
   ],
   "source": [
    "population_size = 3\n",
    "sample_size = 2\n",
    "combination = pow(3, 2)\n",
    "members = [9, 12, 15]\n",
    "sample_combination = [tuple((i,j)) for i in members for j in members]\n",
    "\n",
    "print(f\"Possible number of combination: {combination}\")\n",
    "print(f\"List of all possible sample size: \\n{sample_combination}\")"
   ]
  },
  {
   "cell_type": "markdown",
   "metadata": {},
   "source": [
    "After getting the possilbe list of sample size from the population, we then get the sampling distribution of the sample mean. We first get the mean of mean of each sample size."
   ]
  },
  {
   "cell_type": "code",
   "execution_count": 85,
   "metadata": {},
   "outputs": [
    {
     "name": "stdout",
     "output_type": "stream",
     "text": [
      "List of the sample mean of each sample size: \n",
      "[9.0, 10.5, 12.0, 10.5, 12.0, 13.5, 12.0, 13.5, 15.0]\n"
     ]
    }
   ],
   "source": [
    "sample_mean = [((pair[0] + pair[1]) / 2) for pair in sample_combination ]\n",
    "print(f\"List of the sample mean of each sample size: \\n{sample_mean}\")"
   ]
  },
  {
   "cell_type": "markdown",
   "metadata": {},
   "source": [
    "As we can see, we get the following sample mean:"
   ]
  },
  {
   "cell_type": "code",
   "execution_count": 103,
   "metadata": {},
   "outputs": [
    {
     "name": "stdout",
     "output_type": "stream",
     "text": [
      "The list of sample mean: \n",
      "[9.0, 10.5, 12.0, 13.5, 15.0]\n"
     ]
    }
   ],
   "source": [
    "xbar = []\n",
    "for mean in sample_mean:\n",
    "    if mean not in xbar:\n",
    "        xbar.append(mean)\n",
    "print(f\"The list of sample mean: \\n{xbar}\")"
   ]
  },
  {
   "cell_type": "markdown",
   "metadata": {},
   "source": [
    "Now that we have the list of the sample mean, we proceed by computing the sampling distribution of the sample mean."
   ]
  },
  {
   "cell_type": "code",
   "execution_count": 184,
   "metadata": {},
   "outputs": [
    {
     "name": "stdout",
     "output_type": "stream",
     "text": [
      "Sampling distribution of the sample mean: \n",
      "[0.111111111111111, 0.222222222222222, 0.333333333333333, 0.222222222222222, 0.111111111111111]\n"
     ]
    }
   ],
   "source": [
    "# Count the frequency of each sample mean\n",
    "xbar_freq = [round((sample_mean.count(mean)/combination), 15) for mean in xbar]\n",
    "print(f\"Sampling distribution of the sample mean: \\n{xbar_freq}\")"
   ]
  },
  {
   "cell_type": "markdown",
   "metadata": {},
   "source": [
    "From here, we can easily get the mean of the sample mean using the formula $\\mu_{\\bar{x}} = \\sum\\bar{x}p(\\bar{x})$."
   ]
  },
  {
   "cell_type": "code",
   "execution_count": 185,
   "metadata": {},
   "outputs": [
    {
     "name": "stdout",
     "output_type": "stream",
     "text": [
      "xbar x p(xbar): \n",
      "[1.0, 2.333333333, 4.0, 3.0, 1.666666667]\n",
      "Mean of the sample mean: 12.0\n",
      "Mean of the population: 12.0\n"
     ]
    }
   ],
   "source": [
    "# Getting xbar x p(xbar) of each sample mean\n",
    "xbar_pxbar = [(round((xbar[index] * xbar_freq[index]), 9)) for index in range(len(xbar))]\n",
    "print(f\"xbar x p(xbar): \\n{xbar_pxbar}\")\n",
    "\n",
    "# Getting the sum\n",
    "mu_xbar = sum(xbar_pxbar)\n",
    "print(f\"Mean of the sample mean: {mu_xbar}\")\n",
    "\n",
    "mu_population = sum(members) / len(members)\n",
    "print(f\"Mean of the population: {mu_population}\")"
   ]
  },
  {
   "cell_type": "markdown",
   "metadata": {},
   "source": [
    "Here we see that the mean of sample mean is just the same as the mean of the population. Thus, it follows that $\\mu_{\\bar{x}} = \\mu$. We now proceed in getting the variance of the sample mean. This is done by using the fomrula $\\sigma_{\\bar{x}}^{2} = \\sum\\bar{x}^2p(\\bar{x}) - \\mu_{\\bar{x}}^2$."
   ]
  },
  {
   "cell_type": "code",
   "execution_count": 207,
   "metadata": {},
   "outputs": [
    {
     "name": "stdout",
     "output_type": "stream",
     "text": [
      "xbar² x p(xbar): \n",
      "[9.0, 24.5, 48.0, 40.5, 25.0]\n",
      "The sum of xbar² x p(xbar): 147.0\n",
      "The variance of the sample mean: 3.0\n",
      "Variance of population: 6.0\n"
     ]
    }
   ],
   "source": [
    "var_t1 = [(round((pow(xbar[index], 2) * xbar_freq[index]), 9)) for index in range(len(xbar))]\n",
    "print(f\"xbar\\u00b2 x p(xbar): \\n{var_t1}\")\n",
    "\n",
    "# Getting the sum\n",
    "var_t1_sum = sum(var_t1)\n",
    "print(f\"The sum of xbar\\u00b2 x p(xbar): {var_t1_sum}\")\n",
    "\n",
    "# Subtracting from mu_xbar^2\n",
    "var_t2 = mu_xbar ** 2\n",
    "var_sample = var_t1_sum - var_t2\n",
    "print(f\"The variance of the sample mean: {var_sample}\")\n",
    "\n",
    "# Variance of the population\n",
    "var_sum = 0\n",
    "for item in members:\n",
    "    var_sum += pow(item, 2) / len(members)\n",
    "var_population = var_sum - pow(mu_population, 2)\n",
    "print(f\"Variance of population: {var_population}\")\n",
    "\n",
    "# Appending the values of mean of the sample mean and the sum of xbar^2 x p(xbar)\n",
    "# xbar_pxbar.append(mu_xbar)\n",
    "# var_t1.append(var_t1_sum)\n"
   ]
  },
  {
   "cell_type": "markdown",
   "metadata": {},
   "source": [
    "Thus, we notice that $\\sigma_{\\bar{x}}^{2} = \\sigma^{2} / 2$ holds true. We format out data by creating a table to better visualize our work."
   ]
  },
  {
   "cell_type": "code",
   "execution_count": 217,
   "metadata": {},
   "outputs": [
    {
     "data": {
      "text/html": [
       "<div>\n",
       "<style scoped>\n",
       "    .dataframe tbody tr th:only-of-type {\n",
       "        vertical-align: middle;\n",
       "    }\n",
       "\n",
       "    .dataframe tbody tr th {\n",
       "        vertical-align: top;\n",
       "    }\n",
       "\n",
       "    .dataframe thead th {\n",
       "        text-align: right;\n",
       "    }\n",
       "</style>\n",
       "<table border=\"1\" class=\"dataframe\">\n",
       "  <thead>\n",
       "    <tr style=\"text-align: right;\">\n",
       "      <th></th>\n",
       "      <th>A</th>\n",
       "      <th>B</th>\n",
       "      <th>Mean</th>\n",
       "      <th>xbar</th>\n",
       "      <th>p(xbar)</th>\n",
       "      <th>xbar x p(xbar)</th>\n",
       "      <th>xbar^2 x p(xbar)</th>\n",
       "    </tr>\n",
       "  </thead>\n",
       "  <tbody>\n",
       "    <tr>\n",
       "      <th>0</th>\n",
       "      <td>9</td>\n",
       "      <td>9</td>\n",
       "      <td>9</td>\n",
       "      <td>9.0</td>\n",
       "      <td>0.111111</td>\n",
       "      <td>1.0</td>\n",
       "      <td>9.0</td>\n",
       "    </tr>\n",
       "    <tr>\n",
       "      <th>1</th>\n",
       "      <td>9</td>\n",
       "      <td>12</td>\n",
       "      <td>10.5</td>\n",
       "      <td>10.5</td>\n",
       "      <td>0.222222</td>\n",
       "      <td>2.333333</td>\n",
       "      <td>24.5</td>\n",
       "    </tr>\n",
       "    <tr>\n",
       "      <th>2</th>\n",
       "      <td>9</td>\n",
       "      <td>15</td>\n",
       "      <td>12</td>\n",
       "      <td>12.0</td>\n",
       "      <td>0.333333</td>\n",
       "      <td>4.0</td>\n",
       "      <td>48.0</td>\n",
       "    </tr>\n",
       "    <tr>\n",
       "      <th>3</th>\n",
       "      <td>12</td>\n",
       "      <td>9</td>\n",
       "      <td>10.5</td>\n",
       "      <td>13.5</td>\n",
       "      <td>0.222222</td>\n",
       "      <td>3.0</td>\n",
       "      <td>40.5</td>\n",
       "    </tr>\n",
       "    <tr>\n",
       "      <th>4</th>\n",
       "      <td>12</td>\n",
       "      <td>12</td>\n",
       "      <td>12</td>\n",
       "      <td>15.0</td>\n",
       "      <td>0.111111</td>\n",
       "      <td>1.666667</td>\n",
       "      <td>25.0</td>\n",
       "    </tr>\n",
       "    <tr>\n",
       "      <th>5</th>\n",
       "      <td>12</td>\n",
       "      <td>15</td>\n",
       "      <td>13.5</td>\n",
       "      <td></td>\n",
       "      <td></td>\n",
       "      <td>12.0</td>\n",
       "      <td>147.0</td>\n",
       "    </tr>\n",
       "    <tr>\n",
       "      <th>6</th>\n",
       "      <td>15</td>\n",
       "      <td>9</td>\n",
       "      <td>12</td>\n",
       "      <td></td>\n",
       "      <td></td>\n",
       "      <td></td>\n",
       "      <td></td>\n",
       "    </tr>\n",
       "    <tr>\n",
       "      <th>7</th>\n",
       "      <td>15</td>\n",
       "      <td>12</td>\n",
       "      <td>13.5</td>\n",
       "      <td></td>\n",
       "      <td></td>\n",
       "      <td></td>\n",
       "      <td></td>\n",
       "    </tr>\n",
       "    <tr>\n",
       "      <th>8</th>\n",
       "      <td>15</td>\n",
       "      <td>15</td>\n",
       "      <td>15</td>\n",
       "      <td></td>\n",
       "      <td></td>\n",
       "      <td></td>\n",
       "      <td></td>\n",
       "    </tr>\n",
       "  </tbody>\n",
       "</table>\n",
       "</div>"
      ],
      "text/plain": [
       "    A   B  Mean  xbar   p(xbar) xbar x p(xbar) xbar^2 x p(xbar)\n",
       "0   9   9     9   9.0  0.111111            1.0              9.0\n",
       "1   9  12  10.5  10.5  0.222222       2.333333             24.5\n",
       "2   9  15    12  12.0  0.333333            4.0             48.0\n",
       "3  12   9  10.5  13.5  0.222222            3.0             40.5\n",
       "4  12  12    12  15.0  0.111111       1.666667             25.0\n",
       "5  12  15  13.5                           12.0            147.0\n",
       "6  15   9    12                                                \n",
       "7  15  12  13.5                                                \n",
       "8  15  15    15                                                "
      ]
     },
     "execution_count": 217,
     "metadata": {},
     "output_type": "execute_result"
    }
   ],
   "source": [
    "import pandas as pd\n",
    "import numpy as np\n",
    "from operator import itemgetter\n",
    "\n",
    "data = {\"A\":list(map(itemgetter(0), sample_combination)), \n",
    "         \"B\":list(map(itemgetter(1), sample_combination)), \n",
    "         \"Mean\":sample_mean,\n",
    "         \"xbar\":xbar,\n",
    "         \"p(xbar)\":xbar_freq,\n",
    "         \"xbar x p(xbar)\": xbar_pxbar,\n",
    "         \"xbar^2 x p(xbar)\":var_t1\n",
    "        }\n",
    "\n",
    "# del xbar_pxbar[5:]\n",
    "# data\n",
    "\n",
    "# for key, value in data.items():\n",
    "#     for i in range(len(value)):\n",
    "#         if(value[i] )\n",
    "\n",
    "df = pd.DataFrame(\n",
    "    dict([(key, pd.Series(value))\n",
    "            for key, value in data.items()\n",
    "        ]\n",
    "    )\n",
    ")\n",
    "\n",
    "# Formats floats and ints\n",
    "df[['xbar','p(xbar)','xbar x p(xbar)', 'xbar^2 x p(xbar)']] = df[['xbar','p(xbar)','xbar x p(xbar)', 'xbar^2 x p(xbar)']].fillna('')\n",
    "df.update(df.select_dtypes(include=np.number).applymap('{:,g}'.format))\n",
    "df"
   ]
  },
  {
   "cell_type": "markdown",
   "metadata": {},
   "source": [
    "Graphing the table above we get the following."
   ]
  },
  {
   "cell_type": "code",
   "execution_count": 264,
   "metadata": {},
   "outputs": [
    {
     "data": {
      "text/plain": [
       "Text(0.5, 0, 'xbar')"
      ]
     },
     "execution_count": 264,
     "metadata": {},
     "output_type": "execute_result"
    },
    {
     "data": {
      "image/png": "[encoded data removed]",
      "text/plain": [
       "<Figure size 640x480 with 1 Axes>"
      ]
     },
     "metadata": {},
     "output_type": "display_data"
    }
   ],
   "source": [
    "import matplotlib.pyplot as plt\n",
    "\n",
    "x = np.arange(members[0], members[-1], 1.25)\n",
    "y = xbar_freq\n",
    "plt.plot(x, y)\n",
    "plt.xlabel(\"xbar\")"
   ]
  },
  {
   "cell_type": "markdown",
   "metadata": {},
   "source": [
    "#### __Problem 8.21__\n",
    "A population consists of the four numbers 3, 7, 11, and 15. Consider all possible samples of size 2 that can be drawn with replacement from this population. Find (a) the population mean, (b) the population standard deviation, (c) the mean of the sampling distribution of means, and (d) the standard deviation of the sampling distribution of means. Verify parts (c) and (d) directly from (a) and (b) by using suitable formulas."
   ]
  },
  {
   "cell_type": "markdown",
   "metadata": {},
   "source": [
    "__Solution__"
   ]
  },
  {
   "cell_type": "code",
   "execution_count": 54,
   "metadata": {},
   "outputs": [
    {
     "name": "stdout",
     "output_type": "stream",
     "text": [
      "The list of sample mean: \n",
      "[3.0, 5.0, 7.0, 9.0, 11.0, 13.0, 15.0]\n",
      "\n",
      "\n",
      "a) Mean of the population: 9.0\n",
      "b) Standard deviation of the population: 4.47213595499958\n",
      "c) Mean of the sample mean: 9.0\n",
      "d) Standard deviation of the sampling distribution mean: 3.1622776601683795\n"
     ]
    }
   ],
   "source": [
    "import math\n",
    "\n",
    "population_size = 4\n",
    "sample_size = 2\n",
    "combination = pow(4, 2)\n",
    "members = [3, 7, 11, 15]\n",
    "sample_combination = [tuple((i,j)) for i in members for j in members]\n",
    "\n",
    "# print(f\"Possible number of combination: {combination}\")\n",
    "# print(f\"List of all possible sample size: \\n{sample_combination}\")\n",
    "\n",
    "# print(\"\\n\")\n",
    "sample_mean = [((pair[0] + pair[1]) / 2) for pair in sample_combination ]\n",
    "# print(f\"List of the sample mean of each sample size: \\n{sample_mean}\")\n",
    "\n",
    "xbar = []\n",
    "for mean in sample_mean:\n",
    "    if mean not in xbar:\n",
    "        xbar.append(mean)\n",
    "# print(\"\\n\")\n",
    "print(f\"The list of sample mean: \\n{xbar}\")\n",
    "print(\"\\n\")\n",
    "\n",
    "# Count the frequency of each sample mean\n",
    "xbar_freq = [round((sample_mean.count(mean)/combination), 15) for mean in xbar]\n",
    "# print(f\"Sampling distribution of the sample mean: \\n{xbar_freq}\")\n",
    "\n",
    "# print(\"\\n\")\n",
    "# Getting xbar x p(xbar) of each sample mean\n",
    "xbar_pxbar = [(round((xbar[index] * xbar_freq[index]), 9)) for index in range(len(xbar))]\n",
    "# print(f\"xbar x p(xbar): \\n{xbar_pxbar}\")\n",
    "\n",
    "# Getting the sum\n",
    "mu_xbar = sum(xbar_pxbar)\n",
    "\n",
    "mu_population = sum(members) / population_size\n",
    "\n",
    "# print(\"\\n\")\n",
    "var_t1 = [(round((pow(xbar[index], 2) * xbar_freq[index]), 9)) for index in range(len(xbar))]\n",
    "# print(f\"xbar\\u00b2 x p(xbar): \\n{var_t1}\")\n",
    "\n",
    "# Getting the sum\n",
    "var_t1_sum = sum(var_t1)\n",
    "# print(f\"The sum of xbar\\u00b2 x p(xbar): {var_t1_sum}\")\n",
    "\n",
    "# Variance of the population\n",
    "var_sum = 0\n",
    "for item in members:\n",
    "    var_sum += pow(item, 2) * (1/population_size)\n",
    "# var_population = var_sum / population_size\n",
    "sd_population = math.sqrt((var_sum) - pow(mu_population, 2))\n",
    "var_population = pow(sd_population, 2)\n",
    "\n",
    "# Subtracting from mu_xbar^2\n",
    "var_t2 = mu_xbar ** 2\n",
    "var_sample = var_t1_sum - var_t2\n",
    "sd_sample = math.sqrt(var_sample)\n",
    "\n",
    "print(f\"a) Mean of the population: {mu_population}\")\n",
    "print(f\"b) Standard deviation of the population: {sd_population}\")\n",
    "print(f\"c) Mean of the sample mean: {mu_xbar}\")\n",
    "print(f\"d) Standard deviation of the sampling distribution mean: {sd_sample}\")\n"
   ]
  },
  {
   "cell_type": "markdown",
   "metadata": {},
   "source": [
    "#### __Verification__\n",
    "\n",
    "__c) Mean of the sample mean__\n",
    "\n",
    "$$\\mu_{\\bar{x}} = (3 + 5 + 7 + 9 + 11 + 13 + 15) / 7$$\n",
    "$$= 63 / 7$$\n",
    "$$= 9$$\n",
    "\n",
    "$$\\mu = (3 + 7 + 11 + 15) / 4$$\n",
    "$$ = 36 / 4$$\n",
    "$$ = 9$$\n",
    "\n",
    "Thus we see that $\\mu_{\\bar{x}} = \\mu$.\n",
    "\n",
    "__d) Standard deviation of the sampling distribution mean__\n",
    "\n",
    "$$\\sigma_{\\bar{x}} = \\frac{\\sigma}{\\sqrt N}$$\n",
    "\n",
    "From our computation above, we obtained $\\sigma = 4.47213595499958$. Plugging this into the equation we get\n",
    "\n",
    "$$\\sigma_{\\bar{x}} = \\frac{4.47213595499958}{\\sqrt 2}$$\n",
    "$$ = 3.1622776601683795$$"
   ]
  },
  {
   "cell_type": "markdown",
   "metadata": {},
   "source": [
    "#### __Problem 8.34__\n",
    "Find the probability that of the next 200 children born, (a) less than 40% will be boys, (b) between 43% and 57% will be girls, and (c) more than 54% will be boys. Assume equal probabilities for the births of boys and girls."
   ]
  },
  {
   "cell_type": "markdown",
   "metadata": {},
   "source": [
    "__Solution__"
   ]
  },
  {
   "cell_type": "code",
   "execution_count": 120,
   "metadata": {},
   "outputs": [
    {
     "name": "stdout",
     "output_type": "stream",
     "text": [
      "Probability that less than 40% will be boys: 0.19%\n",
      "Probability that between 43% and 57% will be girls: 94.26%\n",
      "Probability that more than 54% will be boys: 11.51%\n"
     ]
    }
   ],
   "source": [
    "n = 200\n",
    "p = 0.5\n",
    "sd = math.sqrt((p * (1 - p)) / n)\n",
    "\n",
    "z_less40 = ((0.4 - 0.5) / sd)\n",
    "z_more43 = ((0.43 - 0.5) / sd)\n",
    "z_less57 = ((0.57 - 0.5) / sd)\n",
    "z_more54 = ((0.54 - 0.5) / sd)\n",
    "\n",
    "# Values used are from the z-table\n",
    "less40 = abs(round((0.4981 - p), 4))\n",
    "more43 = abs(round((0.4713 - p), 4))\n",
    "less57 = abs(round((0.4713 + p), 4))\n",
    "bet43_57 = round((less57 - more43), 4)\n",
    "more54 = round((1 - abs(round((.3849 + p), 4))), 4)\n",
    "\n",
    "print(f\"Probability that less than 40% will be boys: {less40 * 100}%\")\n",
    "print(f\"Probability that between 43% and 57% will be girls: {bet43_57 * 100}%\")\n",
    "print(f\"Probability that more than 54% will be boys: {more54 * 100}%\")"
   ]
  },
  {
   "cell_type": "markdown",
   "metadata": {},
   "source": [
    "### __Problem 8.49__\n",
    "The credit hour distribution at Metropolitan Technological College is as follows:\n",
    "<center>\n",
    "\n",
    "|x      |p(x)   |\n",
    "|:-----:|:-----:|\n",
    "|6      |0.1    |\n",
    "|9      |0.2    |\n",
    "|12     |0.4    |\n",
    "|15     |0.2    |\n",
    "|18     |0.1    |\n",
    "\n",
    "</center>\n",
    "\n",
    "Find $\\mu$ and $\\sigma^{2}$. Give the 25 (with replacement) possible samples of size 2, their means, and their probabilities."
   ]
  },
  {
   "cell_type": "markdown",
   "metadata": {},
   "source": [
    "__Solution__"
   ]
  },
  {
   "cell_type": "code",
   "execution_count": 137,
   "metadata": {},
   "outputs": [
    {
     "name": "stdout",
     "output_type": "stream",
     "text": [
      "The mean of the population is: 12.0\n",
      "The variance of the population is: 18.0\n"
     ]
    }
   ],
   "source": [
    "members = [6, 9, 12, 15, 18]\n",
    "\n",
    "sample_size = 2\n",
    "combination = len(members) ** sample_size\n",
    "\n",
    "mu_population = sum(members) / len(members)\n",
    "print(f\"The mean of the population is: {mu_population}\")\n",
    "\n",
    "numerator = 0\n",
    "for element in members:\n",
    "    numerator += (element - mu_population) ** 2\n",
    "sd_population = (numerator / len(members))\n",
    "\n",
    "print(f\"The variance of the population is: {sd_population}\")"
   ]
  },
  {
   "cell_type": "markdown",
   "metadata": {},
   "source": [
    "After getting the possilbe list of sample size from the population, we then get the sampling distribution of the sample mean. We first get the mean of mean of each sample size."
   ]
  },
  {
   "cell_type": "code",
   "execution_count": 140,
   "metadata": {},
   "outputs": [
    {
     "name": "stdout",
     "output_type": "stream",
     "text": [
      "Possible number of combination: 25\n",
      "List of all possible sample size: \n",
      "[(6, 6), (6, 9), (6, 12), (6, 15), (6, 18), (9, 6), (9, 9), (9, 12), (9, 15), (9, 18), (12, 6), (12, 9), (12, 12), (12, 15), (12, 18), (15, 6), (15, 9), (15, 12), (15, 15), (15, 18), (18, 6), (18, 9), (18, 12), (18, 15), (18, 18)]\n"
     ]
    }
   ],
   "source": [
    "sample_combination = [tuple((i,j)) for i in members for j in members]\n",
    "print(f\"Possible number of combination: {combination}\")\n",
    "print(f\"List of all possible sample size: \\n{sample_combination}\")"
   ]
  },
  {
   "cell_type": "markdown",
   "metadata": {},
   "source": [
    "As we can see, we get the following sample mean:"
   ]
  },
  {
   "cell_type": "code",
   "execution_count": 141,
   "metadata": {},
   "outputs": [
    {
     "name": "stdout",
     "output_type": "stream",
     "text": [
      "List of the sample mean of each sample size: \n",
      "[6.0, 7.5, 9.0, 10.5, 12.0, 7.5, 9.0, 10.5, 12.0, 13.5, 9.0, 10.5, 12.0, 13.5, 15.0, 10.5, 12.0, 13.5, 15.0, 16.5, 12.0, 13.5, 15.0, 16.5, 18.0]\n"
     ]
    }
   ],
   "source": [
    "sample_mean = [((pair[0] + pair[1]) / 2) for pair in sample_combination ]\n",
    "print(f\"List of the sample mean of each sample size: \\n{sample_mean}\")"
   ]
  },
  {
   "cell_type": "markdown",
   "metadata": {},
   "source": [
    "Now that we have the list of the sample mean, we proceed by computing the sampling distribution of the sample mean."
   ]
  },
  {
   "cell_type": "code",
   "execution_count": 142,
   "metadata": {},
   "outputs": [
    {
     "name": "stdout",
     "output_type": "stream",
     "text": [
      "The list of sample mean: \n",
      "[6.0, 7.5, 9.0, 10.5, 12.0, 13.5, 15.0, 16.5, 18.0]\n"
     ]
    }
   ],
   "source": [
    "xbar = []\n",
    "for mean in sample_mean:\n",
    "    if mean not in xbar:\n",
    "        xbar.append(mean)\n",
    "print(f\"The list of sample mean: \\n{xbar}\")"
   ]
  },
  {
   "cell_type": "markdown",
   "metadata": {},
   "source": [
    "From here, we can easily get the mean of the sample mean using the formula $\\mu_{\\bar{x}} = \\sum\\bar{x}p(\\bar{x})$."
   ]
  },
  {
   "cell_type": "code",
   "execution_count": 144,
   "metadata": {},
   "outputs": [
    {
     "name": "stdout",
     "output_type": "stream",
     "text": [
      "Sampling distribution of the sample mean: \n",
      "[0.04, 0.08, 0.12, 0.16, 0.2, 0.16, 0.12, 0.08, 0.04]\n",
      "xbar x p(xbar): \n",
      "[0.24, 0.6, 1.08, 1.68, 2.4, 2.16, 1.8, 1.32, 0.72]\n",
      "Mean of the sample mean: 12\n"
     ]
    }
   ],
   "source": [
    "# Count the frequency of each sample mean\n",
    "xbar_freq = [round((sample_mean.count(mean)/combination), 15) for mean in xbar]\n",
    "print(f\"Sampling distribution of the sample mean: \\n{xbar_freq}\")\n",
    "\n",
    "# Getting xbar x p(xbar) of each sample mean\n",
    "xbar_pxbar = [(round((xbar[index] * xbar_freq[index]), 9)) for index in range(len(xbar))]\n",
    "print(f\"xbar x p(xbar): \\n{xbar_pxbar}\")\n",
    "\n",
    "# Getting the sum\n",
    "mu_xbar = sum(xbar_pxbar)\n",
    "print(f\"Mean of the sample mean: {mu_xbar:.0f}\")"
   ]
  },
  {
   "cell_type": "markdown",
   "metadata": {},
   "source": [
    "Putting the data into a table to better visualize our work."
   ]
  },
  {
   "cell_type": "code",
   "execution_count": 148,
   "metadata": {},
   "outputs": [
    {
     "data": {
      "text/html": [
       "<div>\n",
       "<style scoped>\n",
       "    .dataframe tbody tr th:only-of-type {\n",
       "        vertical-align: middle;\n",
       "    }\n",
       "\n",
       "    .dataframe tbody tr th {\n",
       "        vertical-align: top;\n",
       "    }\n",
       "\n",
       "    .dataframe thead th {\n",
       "        text-align: right;\n",
       "    }\n",
       "</style>\n",
       "<table border=\"1\" class=\"dataframe\">\n",
       "  <thead>\n",
       "    <tr style=\"text-align: right;\">\n",
       "      <th></th>\n",
       "      <th>A</th>\n",
       "      <th>B</th>\n",
       "      <th>Mean</th>\n",
       "      <th>xbar</th>\n",
       "      <th>p(xbar)</th>\n",
       "    </tr>\n",
       "  </thead>\n",
       "  <tbody>\n",
       "    <tr>\n",
       "      <th>0</th>\n",
       "      <td>6</td>\n",
       "      <td>6</td>\n",
       "      <td>6</td>\n",
       "      <td>6.0</td>\n",
       "      <td>0.04</td>\n",
       "    </tr>\n",
       "    <tr>\n",
       "      <th>1</th>\n",
       "      <td>6</td>\n",
       "      <td>9</td>\n",
       "      <td>7.5</td>\n",
       "      <td>7.5</td>\n",
       "      <td>0.08</td>\n",
       "    </tr>\n",
       "    <tr>\n",
       "      <th>2</th>\n",
       "      <td>6</td>\n",
       "      <td>12</td>\n",
       "      <td>9</td>\n",
       "      <td>9.0</td>\n",
       "      <td>0.12</td>\n",
       "    </tr>\n",
       "    <tr>\n",
       "      <th>3</th>\n",
       "      <td>6</td>\n",
       "      <td>15</td>\n",
       "      <td>10.5</td>\n",
       "      <td>10.5</td>\n",
       "      <td>0.16</td>\n",
       "    </tr>\n",
       "    <tr>\n",
       "      <th>4</th>\n",
       "      <td>6</td>\n",
       "      <td>18</td>\n",
       "      <td>12</td>\n",
       "      <td>12.0</td>\n",
       "      <td>0.2</td>\n",
       "    </tr>\n",
       "    <tr>\n",
       "      <th>5</th>\n",
       "      <td>9</td>\n",
       "      <td>6</td>\n",
       "      <td>7.5</td>\n",
       "      <td>13.5</td>\n",
       "      <td>0.16</td>\n",
       "    </tr>\n",
       "    <tr>\n",
       "      <th>6</th>\n",
       "      <td>9</td>\n",
       "      <td>9</td>\n",
       "      <td>9</td>\n",
       "      <td>15.0</td>\n",
       "      <td>0.12</td>\n",
       "    </tr>\n",
       "    <tr>\n",
       "      <th>7</th>\n",
       "      <td>9</td>\n",
       "      <td>12</td>\n",
       "      <td>10.5</td>\n",
       "      <td>16.5</td>\n",
       "      <td>0.08</td>\n",
       "    </tr>\n",
       "    <tr>\n",
       "      <th>8</th>\n",
       "      <td>9</td>\n",
       "      <td>15</td>\n",
       "      <td>12</td>\n",
       "      <td>18.0</td>\n",
       "      <td>0.04</td>\n",
       "    </tr>\n",
       "    <tr>\n",
       "      <th>9</th>\n",
       "      <td>9</td>\n",
       "      <td>18</td>\n",
       "      <td>13.5</td>\n",
       "      <td></td>\n",
       "      <td></td>\n",
       "    </tr>\n",
       "    <tr>\n",
       "      <th>10</th>\n",
       "      <td>12</td>\n",
       "      <td>6</td>\n",
       "      <td>9</td>\n",
       "      <td></td>\n",
       "      <td></td>\n",
       "    </tr>\n",
       "    <tr>\n",
       "      <th>11</th>\n",
       "      <td>12</td>\n",
       "      <td>9</td>\n",
       "      <td>10.5</td>\n",
       "      <td></td>\n",
       "      <td></td>\n",
       "    </tr>\n",
       "    <tr>\n",
       "      <th>12</th>\n",
       "      <td>12</td>\n",
       "      <td>12</td>\n",
       "      <td>12</td>\n",
       "      <td></td>\n",
       "      <td></td>\n",
       "    </tr>\n",
       "    <tr>\n",
       "      <th>13</th>\n",
       "      <td>12</td>\n",
       "      <td>15</td>\n",
       "      <td>13.5</td>\n",
       "      <td></td>\n",
       "      <td></td>\n",
       "    </tr>\n",
       "    <tr>\n",
       "      <th>14</th>\n",
       "      <td>12</td>\n",
       "      <td>18</td>\n",
       "      <td>15</td>\n",
       "      <td></td>\n",
       "      <td></td>\n",
       "    </tr>\n",
       "    <tr>\n",
       "      <th>15</th>\n",
       "      <td>15</td>\n",
       "      <td>6</td>\n",
       "      <td>10.5</td>\n",
       "      <td></td>\n",
       "      <td></td>\n",
       "    </tr>\n",
       "    <tr>\n",
       "      <th>16</th>\n",
       "      <td>15</td>\n",
       "      <td>9</td>\n",
       "      <td>12</td>\n",
       "      <td></td>\n",
       "      <td></td>\n",
       "    </tr>\n",
       "    <tr>\n",
       "      <th>17</th>\n",
       "      <td>15</td>\n",
       "      <td>12</td>\n",
       "      <td>13.5</td>\n",
       "      <td></td>\n",
       "      <td></td>\n",
       "    </tr>\n",
       "    <tr>\n",
       "      <th>18</th>\n",
       "      <td>15</td>\n",
       "      <td>15</td>\n",
       "      <td>15</td>\n",
       "      <td></td>\n",
       "      <td></td>\n",
       "    </tr>\n",
       "    <tr>\n",
       "      <th>19</th>\n",
       "      <td>15</td>\n",
       "      <td>18</td>\n",
       "      <td>16.5</td>\n",
       "      <td></td>\n",
       "      <td></td>\n",
       "    </tr>\n",
       "    <tr>\n",
       "      <th>20</th>\n",
       "      <td>18</td>\n",
       "      <td>6</td>\n",
       "      <td>12</td>\n",
       "      <td></td>\n",
       "      <td></td>\n",
       "    </tr>\n",
       "    <tr>\n",
       "      <th>21</th>\n",
       "      <td>18</td>\n",
       "      <td>9</td>\n",
       "      <td>13.5</td>\n",
       "      <td></td>\n",
       "      <td></td>\n",
       "    </tr>\n",
       "    <tr>\n",
       "      <th>22</th>\n",
       "      <td>18</td>\n",
       "      <td>12</td>\n",
       "      <td>15</td>\n",
       "      <td></td>\n",
       "      <td></td>\n",
       "    </tr>\n",
       "    <tr>\n",
       "      <th>23</th>\n",
       "      <td>18</td>\n",
       "      <td>15</td>\n",
       "      <td>16.5</td>\n",
       "      <td></td>\n",
       "      <td></td>\n",
       "    </tr>\n",
       "    <tr>\n",
       "      <th>24</th>\n",
       "      <td>18</td>\n",
       "      <td>18</td>\n",
       "      <td>18</td>\n",
       "      <td></td>\n",
       "      <td></td>\n",
       "    </tr>\n",
       "  </tbody>\n",
       "</table>\n",
       "</div>"
      ],
      "text/plain": [
       "     A   B  Mean  xbar p(xbar)\n",
       "0    6   6     6   6.0    0.04\n",
       "1    6   9   7.5   7.5    0.08\n",
       "2    6  12     9   9.0    0.12\n",
       "3    6  15  10.5  10.5    0.16\n",
       "4    6  18    12  12.0     0.2\n",
       "5    9   6   7.5  13.5    0.16\n",
       "6    9   9     9  15.0    0.12\n",
       "7    9  12  10.5  16.5    0.08\n",
       "8    9  15    12  18.0    0.04\n",
       "9    9  18  13.5              \n",
       "10  12   6     9              \n",
       "11  12   9  10.5              \n",
       "12  12  12    12              \n",
       "13  12  15  13.5              \n",
       "14  12  18    15              \n",
       "15  15   6  10.5              \n",
       "16  15   9    12              \n",
       "17  15  12  13.5              \n",
       "18  15  15    15              \n",
       "19  15  18  16.5              \n",
       "20  18   6    12              \n",
       "21  18   9  13.5              \n",
       "22  18  12    15              \n",
       "23  18  15  16.5              \n",
       "24  18  18    18              "
      ]
     },
     "execution_count": 148,
     "metadata": {},
     "output_type": "execute_result"
    }
   ],
   "source": [
    "import pandas as pd\n",
    "import numpy as np\n",
    "from operator import itemgetter\n",
    "\n",
    "data = {\"A\":list(map(itemgetter(0), sample_combination)), \n",
    "         \"B\":list(map(itemgetter(1), sample_combination)), \n",
    "         \"Mean\":sample_mean,\n",
    "         \"xbar\":xbar,\n",
    "         \"p(xbar)\":xbar_freq,\n",
    "        }\n",
    "\n",
    "df = pd.DataFrame(\n",
    "    dict([(key, pd.Series(value))\n",
    "            for key, value in data.items()\n",
    "        ]\n",
    "    )\n",
    ")\n",
    "\n",
    "# Formats floats and ints\n",
    "df[['xbar','p(xbar)']] = df[['xbar','p(xbar)']].fillna('')\n",
    "df.update(df.select_dtypes(include=np.number).applymap('{:,g}'.format))\n",
    "df"
   ]
  }
 ],
 "metadata": {
  "kernelspec": {
   "display_name": "base",
   "language": "python",
   "name": "python3"
  },
  "language_info": {
   "codemirror_mode": {
    "name": "ipython",
    "version": 3
   },
   "file_extension": ".py",
   "mimetype": "text/x-python",
   "name": "python",
   "nbconvert_exporter": "python",
   "pygments_lexer": "ipython3",
   "version": "3.10.9"
  }
 },
 "nbformat": 4,
 "nbformat_minor": 2
}
