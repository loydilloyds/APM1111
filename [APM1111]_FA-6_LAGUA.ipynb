{
 "cells": [
  {
   "cell_type": "markdown",
   "metadata": {},
   "source": [
    "---\n",
    "## **`APM1111 - FA 6`**\n",
    "#### **Author: Sean Angelo T. Lagua**\n",
    "#### **Date: November 13, 2023**\n",
    "#### **Output: Performing and Interpreting Student's t-test**\n",
    "---"
   ]
  },
  {
   "cell_type": "markdown",
   "metadata": {},
   "source": [
    "This data set, \"Invisibility Cloak\", provides the number of mischievous acts committed by two groups of people, those with and those without an invisibility cloak.\n",
    "\n",
    "Variables:\n",
    "- Participant - Identification number of a participant.\n",
    "- Cloak - Experimental group (0 = without a cloak of invisibility, 1 = with a cloak of invisibility).\n",
    "- Mischief - the number of mischievous acts committed by a participant."
   ]
  },
  {
   "cell_type": "markdown",
   "metadata": {},
   "source": [
    "### **Assumptions Checks**\n",
    "\n",
    "**Assumption 1.** The dependent variable (Mischief) is continuous. <br>\n",
    "**Assumption 2.** The independent variable (Cloak) consists of two categorical, independent groups (With a cloak, Without a cloak). <br>\n",
    "**Assumption 3.** Each participant is present only in one group. <br>"
   ]
  },
  {
   "cell_type": "code",
   "execution_count": 224,
   "metadata": {},
   "outputs": [],
   "source": [
    "import pandas as pd\n",
    "import math\n",
    "\n",
    "# Reading the csv file and turning it into a dataframe\n",
    "data = pd.read_csv(\"Invisibility Cloak.csv\")\n",
    "data_frame = pd.DataFrame(data)"
   ]
  },
  {
   "cell_type": "markdown",
   "metadata": {},
   "source": [
    "#### **Raincloud Plots**"
   ]
  },
  {
   "cell_type": "code",
   "execution_count": 228,
   "metadata": {},
   "outputs": [
    {
     "data": {
      "image/png": "[encoded data removed]",
      "text/plain": [
       "<Figure size 640x480 with 1 Axes>"
      ]
     },
     "metadata": {},
     "output_type": "display_data"
    },
    {
     "data": {
      "text/plain": [
       "<Figure size 1200x800 with 0 Axes>"
      ]
     },
     "metadata": {},
     "output_type": "display_data"
    }
   ],
   "source": [
    "import ptitprince as pt\n",
    "import matplotlib.pyplot as plt\n",
    "\n",
    "# Replacing proper category names\n",
    "data_frame['Cloak'] = data_frame['Cloak'].replace([0, 1], ['No Cloak', 'With Cloak'])\n",
    "\n",
    "myBin = data_frame['Cloak']\n",
    "myScale = data_frame['Mischief']\n",
    "\n",
    "noCloakMischief = myScale[myBin == 'No Cloak'].dropna()\n",
    "withCloakMischief = myScale[myBin == 'With Cloak'].dropna()\n",
    "\n",
    "ax = pt.RainCloud(x = 'Cloak', y = 'Mischief', data = data_frame, width_viol= 0.8, width_box= 0.4, orient = 'h')\n",
    "plt.figure(figsize = (12, 8))\n",
    "plt.show()"
   ]
  },
  {
   "cell_type": "markdown",
   "metadata": {},
   "source": [
    "**Assumption 4. Outliers.** There are no significant outliers in the two groups of independent variable (Cloak) in terms of the dependent variable (Mischief), as assessed by visual inspection of boxplots. <br>\n",
    "**Assumption 5. Normality** The dependent variable (Mischief) for each group (Cloak) is normally distributed (p > 0.05), as assessed by Shapiro-Wilk test."
   ]
  },
  {
   "cell_type": "code",
   "execution_count": 252,
   "metadata": {},
   "outputs": [
    {
     "data": {
      "text/html": [
       "<style type=\"text/css\">\n",
       "#T_68992 caption {\n",
       "  text-align: Left;\n",
       "  font-size: 120%;\n",
       "  font-weight: 5em;\n",
       "  font-style: Italic;\n",
       "}\n",
       "</style>\n",
       "<table id=\"T_68992\">\n",
       "  <caption>Test for Normality (Shapiro-Wilk)</caption>\n",
       "  <thead>\n",
       "    <tr>\n",
       "      <th class=\"blank level0\" >&nbsp;</th>\n",
       "      <th id=\"T_68992_level0_col0\" class=\"col_heading level0 col0\" ></th>\n",
       "      <th id=\"T_68992_level0_col1\" class=\"col_heading level0 col1\" >W</th>\n",
       "      <th id=\"T_68992_level0_col2\" class=\"col_heading level0 col2\" >p</th>\n",
       "    </tr>\n",
       "  </thead>\n",
       "  <tbody>\n",
       "    <tr>\n",
       "      <th id=\"T_68992_level0_row0\" class=\"row_heading level0 row0\" >Mischief</th>\n",
       "      <td id=\"T_68992_row0_col0\" class=\"data row0 col0\" >No Cloak</td>\n",
       "      <td id=\"T_68992_row0_col1\" class=\"data row0 col1\" >0.912764</td>\n",
       "      <td id=\"T_68992_row0_col2\" class=\"data row0 col2\" >0.231446</td>\n",
       "    </tr>\n",
       "    <tr>\n",
       "      <th id=\"T_68992_level0_row1\" class=\"row_heading level0 row1\" ></th>\n",
       "      <td id=\"T_68992_row1_col0\" class=\"data row1 col0\" >With Cloak</td>\n",
       "      <td id=\"T_68992_row1_col1\" class=\"data row1 col1\" >0.912764</td>\n",
       "      <td id=\"T_68992_row1_col2\" class=\"data row1 col2\" >0.231446</td>\n",
       "    </tr>\n",
       "  </tbody>\n",
       "</table>\n"
      ],
      "text/plain": [
       "<pandas.io.formats.style.Styler at 0x264f4e5c710>"
      ]
     },
     "execution_count": 252,
     "metadata": {},
     "output_type": "execute_result"
    }
   ],
   "source": [
    "import scipy as sp\n",
    "\n",
    "# Performing Shapiro-Wilk Test\n",
    "shapiro_normality_no_cloak = sp.stats.shapiro(noCloakMischief)\n",
    "shapiro_normality_cloak = sp.stats.shapiro(withCloakMischief)\n",
    "\n",
    "normality_data = {'': ['No Cloak', 'With Cloak'],\n",
    "                  'W': [shapiro_normality_no_cloak[0], shapiro_normality_no_cloak[0]],\n",
    "                  'p': [shapiro_normality_no_cloak[1], shapiro_normality_no_cloak[1]]\n",
    "                 }\n",
    "normality_df = pd.DataFrame(normality_data, index=['Mischief', ''])\n",
    "\n",
    "styles = [dict(selector=\"caption\",\n",
    "                       props=[(\"text-align\", \"Left\"),\n",
    "                              (\"font-size\", \"120%\"),\n",
    "                              (\"font-weight\", \"5em\"),\n",
    "                              (\"font-style\", \"Italic\")\n",
    "                             ]\n",
    "              )\n",
    "         ]\n",
    "\n",
    "normality_df.style.set_caption(\"Test for Normality (Shapiro-Wilk)\").set_table_styles(styles)"
   ]
  },
  {
   "cell_type": "markdown",
   "metadata": {},
   "source": [
    "**Assumption 6. Homogeneity.** There is equality of variances between groups (Without a cloak, With a cloak) on their number of mischievous acts (Mischief), as assessed by Levene’s test of equality of variances."
   ]
  },
  {
   "cell_type": "code",
   "execution_count": 230,
   "metadata": {},
   "outputs": [
    {
     "data": {
      "text/html": [
       "<style type=\"text/css\">\n",
       "#T_d5052 caption {\n",
       "  text-align: Left;\n",
       "  font-size: 120%;\n",
       "  font-weight: 5em;\n",
       "  font-style: Italic;\n",
       "}\n",
       "</style>\n",
       "<table id=\"T_d5052\">\n",
       "  <caption>Test of Equality of Variances (Levene's)</caption>\n",
       "  <thead>\n",
       "    <tr>\n",
       "      <th class=\"blank level0\" >&nbsp;</th>\n",
       "      <th id=\"T_d5052_level0_col0\" class=\"col_heading level0 col0\" >F</th>\n",
       "      <th id=\"T_d5052_level0_col1\" class=\"col_heading level0 col1\" >df</th>\n",
       "      <th id=\"T_d5052_level0_col2\" class=\"col_heading level0 col2\" >p</th>\n",
       "    </tr>\n",
       "  </thead>\n",
       "  <tbody>\n",
       "    <tr>\n",
       "      <th id=\"T_d5052_level0_row0\" class=\"row_heading level0 row0\" >Mischief</th>\n",
       "      <td id=\"T_d5052_row0_col0\" class=\"data row0 col0\" >0.544892</td>\n",
       "      <td id=\"T_d5052_row0_col1\" class=\"data row0 col1\" >1</td>\n",
       "      <td id=\"T_d5052_row0_col2\" class=\"data row0 col2\" >0.468214</td>\n",
       "    </tr>\n",
       "  </tbody>\n",
       "</table>\n"
      ],
      "text/plain": [
       "<pandas.io.formats.style.Styler at 0x264f43d49d0>"
      ]
     },
     "execution_count": 230,
     "metadata": {},
     "output_type": "execute_result"
    }
   ],
   "source": [
    "# Performing Levene's Test\n",
    "levene_test = sp.stats.levene(noCloakMischief, withCloakMischief, center='mean')\n",
    "df_between = 1\n",
    "\n",
    "levene_data = {\n",
    "    'F': [levene_test[0]],\n",
    "    'df' : [df_between],\n",
    "    'p' : [levene_test[1]]\n",
    "}\n",
    "\n",
    "levene_df = pd.DataFrame(levene_data, index=['Mischief'])\n",
    "levene_df.style.set_caption(\"Test of Equality of Variances (Levene's)\").set_table_styles(styles)"
   ]
  },
  {
   "cell_type": "markdown",
   "metadata": {},
   "source": [
    "### **Computation**"
   ]
  },
  {
   "cell_type": "code",
   "execution_count": 251,
   "metadata": {},
   "outputs": [
    {
     "data": {
      "text/html": [
       "<style type=\"text/css\">\n",
       "#T_7580c caption {\n",
       "  text-align: Left;\n",
       "  font-size: 120%;\n",
       "  font-weight: 5em;\n",
       "  font-style: Italic;\n",
       "}\n",
       "</style>\n",
       "<table id=\"T_7580c\">\n",
       "  <caption>Independent Samples T-Test</caption>\n",
       "  <thead>\n",
       "    <tr>\n",
       "      <th class=\"blank level0\" >&nbsp;</th>\n",
       "      <th id=\"T_7580c_level0_col0\" class=\"col_heading level0 col0\" >t</th>\n",
       "      <th id=\"T_7580c_level0_col1\" class=\"col_heading level0 col1\" >df</th>\n",
       "      <th id=\"T_7580c_level0_col2\" class=\"col_heading level0 col2\" >p</th>\n",
       "      <th id=\"T_7580c_level0_col3\" class=\"col_heading level0 col3\" >Mean Difference</th>\n",
       "      <th id=\"T_7580c_level0_col4\" class=\"col_heading level0 col4\" >SE Difference</th>\n",
       "      <th id=\"T_7580c_level0_col5\" class=\"col_heading level0 col5\" >CI95%</th>\n",
       "    </tr>\n",
       "  </thead>\n",
       "  <tbody>\n",
       "    <tr>\n",
       "      <th id=\"T_7580c_level0_row0\" class=\"row_heading level0 row0\" >Mischief</th>\n",
       "      <td id=\"T_7580c_row0_col0\" class=\"data row0 col0\" >-1.713459</td>\n",
       "      <td id=\"T_7580c_row0_col1\" class=\"data row0 col1\" >22</td>\n",
       "      <td id=\"T_7580c_row0_col2\" class=\"data row0 col2\" >0.100686</td>\n",
       "      <td id=\"T_7580c_row0_col3\" class=\"data row0 col3\" >-1.250000</td>\n",
       "      <td id=\"T_7580c_row0_col4\" class=\"data row0 col4\" >0.729518</td>\n",
       "      <td id=\"T_7580c_row0_col5\" class=\"data row0 col5\" >[-2.76  0.26]</td>\n",
       "    </tr>\n",
       "  </tbody>\n",
       "</table>\n"
      ],
      "text/plain": [
       "<pandas.io.formats.style.Styler at 0x264f4dab950>"
      ]
     },
     "execution_count": 251,
     "metadata": {},
     "output_type": "execute_result"
    }
   ],
   "source": [
    "from pingouin import ttest\n",
    "\n",
    "# Performing Independent T-Test\n",
    "mean_diff = myScale[myBin == 'No Cloak'].mean() - myScale[myBin == 'With Cloak'].mean()\n",
    "se_diff = math.sqrt((sp.stats.sem(myScale[myBin == 'No Cloak'])**2) + (sp.stats.sem(myScale[myBin == 'With Cloak'])**2))\n",
    "mischief_ttest = ttest(noCloakMischief, withCloakMischief, correction=False)\n",
    "\n",
    "ind_ttest_data = {\n",
    "    't' : [mischief_ttest.iloc[0]['T']],\n",
    "    'df' : [mischief_ttest.iloc[0]['dof']],\n",
    "    'p' : [mischief_ttest.iloc[0]['p-val']],\n",
    "    'Mean Difference' : [mean_diff],\n",
    "    'SE Difference' : [se_diff],\n",
    "    'CI95%' : [mischief_ttest.iloc[0]['CI95%']]\n",
    "}\n",
    "\n",
    "ind_ttest_df = pd.DataFrame(ind_ttest_data, index=['Mischief'])\n",
    "ind_ttest_df.style.set_caption(\"Independent Samples T-Test\").set_table_styles(styles)"
   ]
  },
  {
   "cell_type": "markdown",
   "metadata": {},
   "source": [
    "This table shows the output for the independent samples Student t-test. Statistical significance is not evident between the differences of the group at the 0.5 level, thus we can proceed without rejecting the null hypothesis."
   ]
  },
  {
   "cell_type": "code",
   "execution_count": 241,
   "metadata": {},
   "outputs": [
    {
     "data": {
      "image/png": "[encoded data removed]",
      "text/plain": [
       "<Figure size 640x480 with 1 Axes>"
      ]
     },
     "metadata": {},
     "output_type": "display_data"
    }
   ],
   "source": [
    "import seaborn as sns\n",
    "\n",
    "# Descriptive confidence level plot between the two means of the groups\n",
    "fig, axes = plt.subplots(1, 1)\n",
    "sns.pointplot(x = 'Cloak', y = 'Mischief', data = data_frame)\n",
    "sns.despine()"
   ]
  },
  {
   "cell_type": "markdown",
   "metadata": {},
   "source": [
    "### **Null Hypothesis**\n",
    "\n",
    "$$ H_{0}:\\mu_{1} = \\mu_{2} $$\n",
    "\n",
    "There is no significant difference between With a Cloak or No Cloak at all on the number of mischievous acts that the participants performed."
   ]
  },
  {
   "cell_type": "markdown",
   "metadata": {},
   "source": [
    "### **Presenting the Results**\n",
    "\n",
    "In a distant future with superb technological advancement, a group of 24 participants were divided equally into two and placed in an enclosed community. Hidden cameras were placed around the community to record their mischievous acts; half were given an invisibility cloak. In a span of a week, the gathered reveals that the number of mischievous acts between those who were given an invisibility cloak ($M =$ 5, $SD =$ 1.651, $n =$ 12) and those were not ($M =$ 3.75, $SD =$ 1.913, $n =$ 12) is relatively the same. That is, the invisibility cloak did not increase the likelihood of a person to commit more mischiefs. The difference, -1.25, BCa 95% CI [-2.50258, 0.00258] was not significant $t$(22) $=$ -1.713, $p =$ .101, d = 0.69."
   ]
  }
 ],
 "metadata": {
  "kernelspec": {
   "display_name": "base",
   "language": "python",
   "name": "python3"
  },
  "language_info": {
   "codemirror_mode": {
    "name": "ipython",
    "version": 3
   },
   "file_extension": ".py",
   "mimetype": "text/x-python",
   "name": "python",
   "nbconvert_exporter": "python",
   "pygments_lexer": "ipython3",
   "version": "3.11.3"
  }
 },
 "nbformat": 4,
 "nbformat_minor": 2
}
