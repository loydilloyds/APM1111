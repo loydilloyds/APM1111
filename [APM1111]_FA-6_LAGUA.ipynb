{
 "cells": [
  {
   "cell_type": "markdown",
   "metadata": {},
   "source": [
    "---\n",
    "## **`APM1111 - FA 6`**\n",
    "#### **Author: Sean Angelo T. Lagua**\n",
    "#### **Date: November 11, 2023**\n",
    "#### **Output: Interpreting t-test**\n",
    "---"
   ]
  },
  {
   "cell_type": "markdown",
   "metadata": {},
   "source": [
    "Given an enclosed community of 24 people in a distant future where technological advancement has led to the discovery of invisible cloaks, we examine the behaviour of these participants in the way they perform mischief. With the given data we can extract meaniningful interpretations concerning the behaviour of people from the future."
   ]
  },
  {
   "cell_type": "code",
   "execution_count": 91,
   "metadata": {},
   "outputs": [
    {
     "data": {
      "text/html": [
       "<div>\n",
       "<style scoped>\n",
       "    .dataframe tbody tr th:only-of-type {\n",
       "        vertical-align: middle;\n",
       "    }\n",
       "\n",
       "    .dataframe tbody tr th {\n",
       "        vertical-align: top;\n",
       "    }\n",
       "\n",
       "    .dataframe thead th {\n",
       "        text-align: right;\n",
       "    }\n",
       "</style>\n",
       "<table border=\"1\" class=\"dataframe\">\n",
       "  <thead>\n",
       "    <tr style=\"text-align: right;\">\n",
       "      <th></th>\n",
       "      <th>Mischief</th>\n",
       "      <th>Mean</th>\n",
       "      <th>N</th>\n",
       "      <th>Std. Deviation</th>\n",
       "      <th>Std. Error Mean</th>\n",
       "    </tr>\n",
       "  </thead>\n",
       "  <tbody>\n",
       "    <tr>\n",
       "      <th>0</th>\n",
       "      <td>No Invisibility Cloak</td>\n",
       "      <td>3.75</td>\n",
       "      <td>12</td>\n",
       "      <td>1.912875</td>\n",
       "      <td>0.552199</td>\n",
       "    </tr>\n",
       "    <tr>\n",
       "      <th>1</th>\n",
       "      <td>Invisibility Cloak</td>\n",
       "      <td>5.00</td>\n",
       "      <td>12</td>\n",
       "      <td>1.651446</td>\n",
       "      <td>0.476731</td>\n",
       "    </tr>\n",
       "  </tbody>\n",
       "</table>\n",
       "</div>"
      ],
      "text/plain": [
       "                Mischief  Mean   N  Std. Deviation  Std. Error Mean\n",
       "0  No Invisibility Cloak  3.75  12        1.912875         0.552199\n",
       "1     Invisibility Cloak  5.00  12        1.651446         0.476731"
      ]
     },
     "execution_count": 91,
     "metadata": {},
     "output_type": "execute_result"
    }
   ],
   "source": [
    "import pandas as pd\n",
    "import numpy as np\n",
    "import scipy\n",
    "import math\n",
    "\n",
    "# Reading the csv file and turning it into a dataframe\n",
    "data = pd.read_csv(\"Invisibility Cloak.csv\")\n",
    "data_frame = pd.DataFrame(data)\n",
    "\n",
    "#Separating the group of people with cloak and no cloak\n",
    "no_cloak = []\n",
    "cloak = []\n",
    "for index, row in data_frame.iterrows() :\n",
    "    if(row['Cloak'] == 0):\n",
    "        no_cloak.append([row['Cloak'], row['Mischief']])\n",
    "    else:\n",
    "        cloak.append([row['Cloak'], row['Mischief']])\n",
    "\n",
    "no_cloak_df = pd.DataFrame(no_cloak, columns=[\"Cloak\", \"Mischief\"])\n",
    "cloak_df = pd.DataFrame(cloak, columns=[\"Cloak\", \"Mischief\"])\n",
    "\n",
    "#Getting the summary of the each group's statistic\n",
    "no_cloak_mean = np.mean(no_cloak_df['Mischief'])\n",
    "no_cloak_std = np.std(no_cloak_df['Mischief'], ddof=1)\n",
    "no_cloak_stderror = no_cloak_std / math.sqrt(len(no_cloak))\n",
    "no_cloak_var = no_cloak_std**2\n",
    "cloak_mean = np.mean(cloak_df['Mischief'])\n",
    "cloak_std = np.std(cloak_df['Mischief'], ddof=1)\n",
    "cloak_stderror = cloak_std / math.sqrt(len(cloak))\n",
    "cloak_var = cloak_std**2\n",
    "\n",
    "#Presenting the data extracted into a table\n",
    "independent_data = {\n",
    "                    'Mischief': ['No Invisibility Cloak', 'Invisibility Cloak'],\n",
    "                    'Mean': [no_cloak_mean, cloak_mean],\n",
    "                    'N': [len(no_cloak), len(cloak)],\n",
    "                    'Std. Deviation': [no_cloak_std, cloak_std],\n",
    "                    'Std. Error Mean': [no_cloak_stderror, cloak_stderror]\n",
    "                   }\n",
    "\n",
    "ind_df = pd.DataFrame(independent_data)\n",
    "ind_df"
   ]
  },
  {
   "cell_type": "markdown",
   "metadata": {},
   "source": [
    "From the table above, we can see a summary of the statistics for the two conditions given. We can notice that both groups had 12 participants labelled by $N$. With the given mean, we can say that the group that does not have an invisibility cloak performed less mischievous acts than the group that had the invisibility cloak. Moreover, the group with no invisibility cloak has 0.552 while the other group has 0.477. Now, we move on to getting the main test statistic for both groups."
   ]
  },
  {
   "cell_type": "code",
   "execution_count": 111,
   "metadata": {},
   "outputs": [
    {
     "name": "stdout",
     "output_type": "stream",
     "text": [
      "The calculated t-score is t(22) = -1.71346 with p = .101, d = -0.69952 95% CI [-2.50258, 0.00258]\n"
     ]
    }
   ],
   "source": [
    "df = len(no_cloak_df['Mischief']) + len(cloak_df['Mischief']) - 2\n",
    "Sp_num = (no_cloak_var*(len(no_cloak_df['Mischief']) - 1)) + (cloak_var*(len(cloak_df['Mischief']) - 1))\n",
    "Sp = math.sqrt(Sp_num / df)\n",
    "pos_CI = (no_cloak_mean - cloak_mean) + 1.717*math.sqrt(((Sp**2)/len(no_cloak_df['Mischief'])) + ((Sp**2)/len(cloak_df['Mischief'])))\n",
    "neg_CI = (no_cloak_mean - cloak_mean) - 1.717*math.sqrt(((Sp**2)/len(no_cloak_df['Mischief'])) + ((Sp**2)/len(cloak_df['Mischief'])))\n",
    "cohen_d = (no_cloak_mean - cloak_mean) / Sp\n",
    "\n",
    "t_value_ind = (no_cloak_mean - cloak_mean) / math.sqrt((no_cloak_var/ len(no_cloak_df['Mischief'])) + (cloak_var/ len(cloak_df['Mischief'])))\n",
    "\n",
    "print(f\"The calculated t-score is t({df}) = {round(t_value_ind, 5)} with p = .101, d = {round(cohen_d, 5)} 95% CI [{round(neg_CI, 5)}, {round(pos_CI, 5)}]\")"
   ]
  },
  {
   "cell_type": "markdown",
   "metadata": {},
   "source": [
    "**Presenting the Results**\n",
    "\n",
    "In a distant future with superb technological advancement, a group of 24 participants were divided equally into two and placed in an enclosed community. Hidden cameras were placed around the community to record their mischievous acts; half were given an invisibility cloak. In a span of a week, the gathered reveals that those who were given the invisibility cloak performed significantly more mischief ($M =$ 5, $SD =$ 1.651, $n =$ 12) than those who were not given an invisibility cloak ($M =$ 3.75, $SD =$ 1.913, $n =$ 12), $t$(22) $=$ -1.71346, $p <$ .101, d = 0.69, 95% CI [-2.50258, 0.00258$]."
   ]
  },
  {
   "cell_type": "code",
   "execution_count": 118,
   "metadata": {},
   "outputs": [
    {
     "name": "stdout",
     "output_type": "stream",
     "text": [
      "The calculated t-value is: -3.8044295512634103.\n"
     ]
    }
   ],
   "source": [
    "mischief_pair = []\n",
    "for index in range(int((len(no_cloak_df['Mischief']) + len(cloak_df['Mischief'])) / 2)):\n",
    "    if(no_cloak[index][0] == 0 and cloak[index][0] == 1):\n",
    "        mischief_pair.append([no_cloak[index][1], cloak[index][1]])\n",
    "\n",
    "mschf_pair_diff = []\n",
    "for j in range(len(mischief_pair)):\n",
    "    mschf_pair_diff.append(mischief_pair[j][0] - mischief_pair[j][1])\n",
    "\n",
    "df = len(mischief_pair) - 1\n",
    "mschf_pair_mean = np.mean(mschf_pair_diff)\n",
    "mschf_pair_stdev = np.std(mschf_pair_diff, ddof=1)\n",
    "mschf_pair_stderror = mschf_pair_stdev / math.sqrt(len(mischief_pair))\n",
    "\n",
    "# -2.201 -> Critical T-Value\n",
    "t_value_pair = (mschf_pair_mean - 0) / mschf_pair_stderror\n",
    "#Reject null hypotheses\n",
    "\n",
    "print(f\"The calculated t-value is: {t_value_pair}.\")"
   ]
  },
  {
   "cell_type": "markdown",
   "metadata": {},
   "source": [
    "We can see that the calculated t-score is less than the critical t-value of -2.201, thus, we reject the null hypotheses and say that there is a significant statistical difference in the behaviour of the people in the experiment."
   ]
  },
  {
   "cell_type": "markdown",
   "metadata": {},
   "source": [
    "**Presenting the Results**\n",
    "\n",
    "Reporting now the same information but as a matched-sample t-test, we see that when given the invisibility cloak, the participants performed more mischievous acts ($M =$ 1.25, $SD =$ 1.138, $SE =$ 0.32856), $t$(11) = -3.80443, p = .003."
   ]
  }
 ],
 "metadata": {
  "kernelspec": {
   "display_name": "base",
   "language": "python",
   "name": "python3"
  },
  "language_info": {
   "codemirror_mode": {
    "name": "ipython",
    "version": 3
   },
   "file_extension": ".py",
   "mimetype": "text/x-python",
   "name": "python",
   "nbconvert_exporter": "python",
   "pygments_lexer": "ipython3",
   "version": "3.10.9"
  }
 },
 "nbformat": 4,
 "nbformat_minor": 2
}
